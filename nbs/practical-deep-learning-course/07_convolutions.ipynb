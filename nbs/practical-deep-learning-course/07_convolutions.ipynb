{
  "cells": [
    {
      "cell_type": "code",
      "execution_count": 11,
      "metadata": {
        "id": "P3VDJeqZhUbG"
      },
      "outputs": [],
      "source": [
        "#|default_exp conv"
      ]
    },
    {
      "cell_type": "code",
      "source": [
        "!pip uninstall -y torch torchvision torchaudio"
      ],
      "metadata": {
        "id": "u7PaNed1HygM",
        "outputId": "61e6f2a9-5cfe-45bd-8e2d-ab162a78d5c6",
        "colab": {
          "base_uri": "https://localhost:8080/"
        }
      },
      "execution_count": 12,
      "outputs": [
        {
          "output_type": "stream",
          "name": "stdout",
          "text": [
            "Found existing installation: torch 2.0.1\n",
            "Uninstalling torch-2.0.1:\n",
            "  Successfully uninstalled torch-2.0.1\n",
            "Found existing installation: torchvision 0.15.2\n",
            "Uninstalling torchvision-0.15.2:\n",
            "  Successfully uninstalled torchvision-0.15.2\n",
            "\u001b[33mWARNING: Skipping torchaudio as it is not installed.\u001b[0m\u001b[33m\n",
            "\u001b[0m"
          ]
        }
      ]
    },
    {
      "cell_type": "code",
      "source": [
        "!pip install -Uqq git+https://github.com/fastai/course22p2"
      ],
      "metadata": {
        "colab": {
          "base_uri": "https://localhost:8080/"
        },
        "id": "WJgLvtZahnXb",
        "outputId": "705d1cd8-ef46-49fc-c8d4-9c2b12e47cb3"
      },
      "execution_count": 13,
      "outputs": [
        {
          "output_type": "stream",
          "name": "stdout",
          "text": [
            "  Preparing metadata (setup.py) ... \u001b[?25l\u001b[?25hdone\n"
          ]
        }
      ]
    },
    {
      "cell_type": "code",
      "source": [
        "!pip install -U numpy==1.26.4 --quiet"
      ],
      "metadata": {
        "id": "BEvvvRHrUAnI"
      },
      "execution_count": 14,
      "outputs": []
    },
    {
      "cell_type": "code",
      "source": [
        "import torch, numpy\n",
        "print(torch.__version__)\n",
        "print(numpy.__version__)"
      ],
      "metadata": {
        "colab": {
          "base_uri": "https://localhost:8080/"
        },
        "id": "nZks6_-XhVug",
        "outputId": "74c1320d-dc0a-49e9-81af-fb87e4535099"
      },
      "execution_count": 15,
      "outputs": [
        {
          "output_type": "stream",
          "name": "stdout",
          "text": [
            "2.0.1+cu117\n",
            "1.26.4\n"
          ]
        }
      ]
    },
    {
      "cell_type": "code",
      "source": [],
      "metadata": {
        "id": "jUcjIUO9qbP7"
      },
      "execution_count": 15,
      "outputs": []
    },
    {
      "cell_type": "markdown",
      "metadata": {
        "id": "8cRbfiTKhUbM"
      },
      "source": [
        "# Convolutions"
      ]
    },
    {
      "cell_type": "code",
      "source": [],
      "metadata": {
        "id": "Y84g1Jd8hl_W"
      },
      "execution_count": 15,
      "outputs": []
    },
    {
      "cell_type": "code",
      "execution_count": 16,
      "metadata": {
        "id": "a2XLw_2ZhUbO"
      },
      "outputs": [],
      "source": [
        "#|export\n",
        "import torch\n",
        "from torch import nn\n",
        "\n",
        "from torch.utils.data import default_collate\n",
        "from typing import Mapping\n",
        "\n",
        "from miniai.training import *\n",
        "from miniai.datasets import *"
      ]
    },
    {
      "cell_type": "code",
      "execution_count": 17,
      "metadata": {
        "id": "smPDe25RhUbP"
      },
      "outputs": [],
      "source": [
        "import pickle,gzip,math,os,time,shutil,torch,matplotlib as mpl, numpy as np\n",
        "import pandas as pd,matplotlib.pyplot as plt\n",
        "from pathlib import Path\n",
        "from torch import tensor\n",
        "\n",
        "from torch.utils.data import DataLoader\n",
        "from typing import Mapping"
      ]
    },
    {
      "cell_type": "code",
      "execution_count": 18,
      "metadata": {
        "id": "-JT6xbr1hUbS"
      },
      "outputs": [],
      "source": [
        "mpl.rcParams['image.cmap'] = 'gray'"
      ]
    },
    {
      "cell_type": "code",
      "source": [
        "MNIST_URL='https://github.com/mnielsen/neural-networks-and-deep-learning/blob/master/data/mnist.pkl.gz?raw=true'\n",
        "path_data = Path('data')\n",
        "path_data.mkdir(exist_ok=True)\n",
        "path_gz = path_data/'mnist.pkl.gz'\n"
      ],
      "metadata": {
        "id": "R9yYMmf-h6Fv"
      },
      "execution_count": 19,
      "outputs": []
    },
    {
      "cell_type": "code",
      "source": [
        "from urllib.request import urlretrieve\n",
        "if not path_gz.exists(): urlretrieve(MNIST_URL, path_gz)"
      ],
      "metadata": {
        "id": "o6PmNO2piKPd"
      },
      "execution_count": 20,
      "outputs": []
    },
    {
      "cell_type": "code",
      "execution_count": 21,
      "metadata": {
        "id": "gyDjJ-mAhUbT"
      },
      "outputs": [],
      "source": [
        "with gzip.open(path_gz, 'rb') as f: ((x_train, y_train), (x_valid, y_valid), _) = pickle.load(f, encoding='latin-1')\n",
        "x_train, y_train, x_valid, y_valid = map(tensor, [x_train, y_train, x_valid, y_valid])"
      ]
    },
    {
      "cell_type": "markdown",
      "metadata": {
        "id": "b4c9Gvr1hUbU"
      },
      "source": [
        "In the context of an image, a feature is a visually distinctive attribute. For example, the number 7 is characterized by a horizontal edge near the top of the digit, and a top-right to bottom-left diagonal edge underneath that.\n",
        "\n",
        "It turns out that finding the edges in an image is a very common task in computer vision, and is surprisingly straightforward. To do it, we use a *convolution*. A convolution requires nothing more than multiplication, and addition."
      ]
    },
    {
      "cell_type": "markdown",
      "metadata": {
        "id": "9TVKncFWhUbV"
      },
      "source": [
        "### Understanding the Convolution Equations"
      ]
    },
    {
      "cell_type": "markdown",
      "metadata": {
        "id": "TpWtHu6xhUbW"
      },
      "source": [
        "To explain the math behind convolutions, fast.ai student Matt Kleinsmith came up with the very clever idea of showing [CNNs from different viewpoints](https://medium.com/impactai/cnns-from-different-viewpoints-fab7f52d159c).\n",
        "\n",
        "Here's the input:"
      ]
    },
    {
      "cell_type": "markdown",
      "metadata": {
        "id": "sefIyzvzhUbW"
      },
      "source": [
        "<img alt=\"The image\" width=\"75\" src=\"https://github.com/fastai/course22p2/blob/master/nbs/images/att_00032.png?raw=1\">"
      ]
    },
    {
      "cell_type": "markdown",
      "metadata": {
        "id": "rstiQd0nhUbX"
      },
      "source": [
        "Here's our kernel:"
      ]
    },
    {
      "cell_type": "markdown",
      "metadata": {
        "id": "ja16OPUhhUbX"
      },
      "source": [
        "<img alt=\"The kernel\" width=\"55\" src=\"https://github.com/fastai/course22p2/blob/master/nbs/images/att_00033.png?raw=1\">"
      ]
    },
    {
      "cell_type": "markdown",
      "metadata": {
        "id": "rVEc3Vu4hUbX"
      },
      "source": [
        "Since the filter fits in the image four times, we have four results:"
      ]
    },
    {
      "cell_type": "markdown",
      "metadata": {
        "id": "1LLF10LghUbX"
      },
      "source": [
        "<img alt=\"The activations\" width=\"52\" src=\"https://github.com/fastai/course22p2/blob/master/nbs/images/att_00034.png?raw=1\">"
      ]
    },
    {
      "cell_type": "markdown",
      "metadata": {
        "id": "EzTVAwGdhUbY"
      },
      "source": [
        "<img alt=\"Applying the kernel\" width=\"366\" caption=\"Applying the kernel\" id=\"apply_kernel\" src=\"https://github.com/fastai/course22p2/blob/master/nbs/images/att_00035.png?raw=1\">"
      ]
    },
    {
      "cell_type": "markdown",
      "metadata": {
        "id": "J6tvnh5PhUbY"
      },
      "source": [
        "<img alt=\"The equation\" width=\"436\" caption=\"The equation\" id=\"eq_view\" src=\"https://github.com/fastai/course22p2/blob/master/nbs/images/att_00036.png?raw=1\">"
      ]
    },
    {
      "cell_type": "code",
      "source": [
        "print(x_train.shape)"
      ],
      "metadata": {
        "colab": {
          "base_uri": "https://localhost:8080/"
        },
        "id": "AFtpzXdTlUw2",
        "outputId": "b2d5a88e-9967-44b4-9045-604a1e455a59"
      },
      "execution_count": 22,
      "outputs": [
        {
          "output_type": "stream",
          "name": "stdout",
          "text": [
            "torch.Size([50000, 784])\n"
          ]
        }
      ]
    },
    {
      "cell_type": "code",
      "execution_count": 23,
      "metadata": {
        "id": "YkEuJL36hUbY"
      },
      "outputs": [],
      "source": [
        "x_imgs = x_train.view(-1,28,28)\n",
        "xv_imgs = x_valid.view(-1,28,28)"
      ]
    },
    {
      "cell_type": "code",
      "execution_count": 24,
      "metadata": {
        "id": "esDuZAF6hUbY"
      },
      "outputs": [],
      "source": [
        "mpl.rcParams['figure.dpi'] = 30"
      ]
    },
    {
      "cell_type": "code",
      "execution_count": 25,
      "metadata": {
        "colab": {
          "base_uri": "https://localhost:8080/",
          "height": 133
        },
        "id": "I7o_28oWhUbZ",
        "outputId": "d11a9c4a-b4d0-4bec-83f0-0b503bb1d8dd"
      },
      "outputs": [
        {
          "output_type": "display_data",
          "data": {
            "text/plain": [
              "<Figure size 192x144 with 1 Axes>"
            ],
            "image/png": "[encoded data removed]"
          },
          "metadata": {}
        }
      ],
      "source": [
        "im3 = x_imgs[7]\n",
        "show_image(im3);"
      ]
    },
    {
      "cell_type": "code",
      "execution_count": 26,
      "metadata": {
        "id": "qP0Bo0D_hUba"
      },
      "outputs": [],
      "source": [
        "top_edge = tensor([[-1,-1,-1],\n",
        "                   [ 0, 0, 0],\n",
        "                   [ 1, 1, 1]]).float()"
      ]
    },
    {
      "cell_type": "code",
      "source": [
        "test = tensor([[1,2,3],\n",
        "                   [ 0, 0, 0],\n",
        "                   [ 2, 2, 2]])\n",
        "(test * test).sum(0)"
      ],
      "metadata": {
        "colab": {
          "base_uri": "https://localhost:8080/"
        },
        "id": "0DejdsC1jh2J",
        "outputId": "8f17f248-7eaa-445b-e123-3edd567703e5"
      },
      "execution_count": 27,
      "outputs": [
        {
          "output_type": "execute_result",
          "data": {
            "text/plain": [
              "tensor([ 5,  8, 13])"
            ]
          },
          "metadata": {},
          "execution_count": 27
        }
      ]
    },
    {
      "cell_type": "markdown",
      "metadata": {
        "id": "p8IMbXwEhUba"
      },
      "source": [
        "We're going to call this our kernel (because that's what fancy computer vision researchers call these)."
      ]
    },
    {
      "cell_type": "code",
      "execution_count": 28,
      "metadata": {
        "colab": {
          "base_uri": "https://localhost:8080/",
          "height": 133
        },
        "id": "PrBTU_YfhUba",
        "outputId": "12b5b1dc-d7f8-4560-c564-d49632debd49"
      },
      "outputs": [
        {
          "output_type": "display_data",
          "data": {
            "text/plain": [
              "<Figure size 192x144 with 1 Axes>"
            ],
            "image/png": "[encoded data removed]"
          },
          "metadata": {}
        }
      ],
      "source": [
        "show_image(top_edge, noframe=False);"
      ]
    },
    {
      "cell_type": "markdown",
      "metadata": {
        "id": "xqUxOTP1hUba"
      },
      "source": [
        "The filter will take any window of size 3×3 in our images, and if we name the pixel values like this:\n",
        "\n",
        "$$\\begin{matrix} a1 & a2 & a3 \\\\ a4 & a5 & a6 \\\\ a7 & a8 & a9 \\end{matrix}$$\n",
        "\n",
        "it will return $-a1-a2-a3+a7+a8+a9$."
      ]
    },
    {
      "cell_type": "code",
      "source": [
        "im3.shape"
      ],
      "metadata": {
        "colab": {
          "base_uri": "https://localhost:8080/"
        },
        "id": "F5vJL-Fit58A",
        "outputId": "9e873853-ddab-42d4-92ad-6c574852b831"
      },
      "execution_count": 29,
      "outputs": [
        {
          "output_type": "execute_result",
          "data": {
            "text/plain": [
              "torch.Size([28, 28])"
            ]
          },
          "metadata": {},
          "execution_count": 29
        }
      ]
    },
    {
      "cell_type": "code",
      "execution_count": 30,
      "metadata": {
        "colab": {
          "base_uri": "https://localhost:8080/",
          "height": 457
        },
        "id": "Gd3NeRPWhUbb",
        "outputId": "ecd1119c-b0c6-4137-d66b-0e1667dc9936"
      },
      "outputs": [
        {
          "output_type": "execute_result",
          "data": {
            "text/plain": [
              "<pandas.io.formats.style.Styler at 0x7c1af46d3290>"
            ],
            "text/html": [
              "<style type=\"text/css\">\n",
              "#T_f8099_row0_col0, #T_f8099_row0_col1, #T_f8099_row0_col2, #T_f8099_row0_col3, #T_f8099_row0_col4, #T_f8099_row0_col5, #T_f8099_row0_col6, #T_f8099_row0_col7, #T_f8099_row0_col8, #T_f8099_row0_col9, #T_f8099_row0_col10, #T_f8099_row0_col11, #T_f8099_row0_col12, #T_f8099_row0_col13, #T_f8099_row0_col14, #T_f8099_row0_col15, #T_f8099_row0_col16, #T_f8099_row0_col17, #T_f8099_row0_col18, #T_f8099_row0_col19, #T_f8099_row0_col20, #T_f8099_row0_col21, #T_f8099_row0_col22, #T_f8099_row1_col0, #T_f8099_row1_col1, #T_f8099_row1_col2, #T_f8099_row1_col3, #T_f8099_row1_col4, #T_f8099_row1_col5, #T_f8099_row1_col6, #T_f8099_row1_col7, #T_f8099_row1_col8, #T_f8099_row1_col9, #T_f8099_row1_col10, #T_f8099_row1_col11, #T_f8099_row1_col12, #T_f8099_row1_col13, #T_f8099_row1_col14, #T_f8099_row1_col15, #T_f8099_row1_col16, #T_f8099_row1_col17, #T_f8099_row1_col18, #T_f8099_row1_col19, #T_f8099_row1_col20, #T_f8099_row1_col21, #T_f8099_row1_col22, #T_f8099_row2_col0, #T_f8099_row2_col1, #T_f8099_row2_col2, #T_f8099_row2_col3, #T_f8099_row2_col4, #T_f8099_row2_col5, #T_f8099_row2_col6, #T_f8099_row2_col7, #T_f8099_row2_col8, #T_f8099_row2_col9, #T_f8099_row2_col10, #T_f8099_row2_col11, #T_f8099_row2_col12, #T_f8099_row2_col13, #T_f8099_row2_col14, #T_f8099_row2_col15, #T_f8099_row2_col16, #T_f8099_row2_col17, #T_f8099_row2_col18, #T_f8099_row2_col19, #T_f8099_row2_col20, #T_f8099_row2_col21, #T_f8099_row2_col22, #T_f8099_row3_col0, #T_f8099_row3_col1, #T_f8099_row3_col2, #T_f8099_row3_col3, #T_f8099_row3_col4, #T_f8099_row3_col5, #T_f8099_row3_col6, #T_f8099_row3_col7, #T_f8099_row3_col8, #T_f8099_row3_col9, #T_f8099_row3_col10, #T_f8099_row3_col11, #T_f8099_row3_col12, #T_f8099_row3_col13, #T_f8099_row3_col14, #T_f8099_row3_col15, #T_f8099_row3_col16, #T_f8099_row3_col17, #T_f8099_row3_col18, #T_f8099_row3_col19, #T_f8099_row3_col20, #T_f8099_row3_col21, #T_f8099_row3_col22, #T_f8099_row4_col0, #T_f8099_row4_col1, #T_f8099_row4_col2, #T_f8099_row4_col3, #T_f8099_row4_col4, #T_f8099_row4_col5, #T_f8099_row4_col6, #T_f8099_row4_col7, #T_f8099_row4_col8, #T_f8099_row4_col9, #T_f8099_row4_col10, #T_f8099_row4_col11, #T_f8099_row4_col12, #T_f8099_row4_col13, #T_f8099_row4_col14, #T_f8099_row4_col15, #T_f8099_row4_col16, #T_f8099_row4_col17, #T_f8099_row4_col18, #T_f8099_row4_col19, #T_f8099_row4_col20, #T_f8099_row4_col21, #T_f8099_row4_col22, #T_f8099_row5_col0, #T_f8099_row5_col1, #T_f8099_row5_col2, #T_f8099_row5_col3, #T_f8099_row5_col4, #T_f8099_row5_col5, #T_f8099_row5_col6, #T_f8099_row5_col7, #T_f8099_row5_col8, #T_f8099_row5_col9, #T_f8099_row5_col10, #T_f8099_row5_col22, #T_f8099_row6_col0, #T_f8099_row6_col1, #T_f8099_row6_col2, #T_f8099_row6_col3, #T_f8099_row6_col4, #T_f8099_row6_col5, #T_f8099_row6_col6, #T_f8099_row6_col7, #T_f8099_row6_col8, #T_f8099_row7_col0, #T_f8099_row7_col1, #T_f8099_row7_col2, #T_f8099_row7_col3, #T_f8099_row7_col4, #T_f8099_row7_col5, #T_f8099_row7_col6, #T_f8099_row7_col7, #T_f8099_row7_col8, #T_f8099_row8_col0, #T_f8099_row8_col1, #T_f8099_row8_col2, #T_f8099_row8_col3, #T_f8099_row8_col4, #T_f8099_row8_col5, #T_f8099_row8_col6, #T_f8099_row8_col7, #T_f8099_row8_col8, #T_f8099_row9_col0, #T_f8099_row9_col1, #T_f8099_row9_col2, #T_f8099_row9_col3, #T_f8099_row9_col4, #T_f8099_row9_col5, #T_f8099_row9_col6, #T_f8099_row9_col7, #T_f8099_row9_col8, #T_f8099_row9_col13, #T_f8099_row9_col14, #T_f8099_row9_col15, #T_f8099_row9_col16, #T_f8099_row10_col0, #T_f8099_row10_col1, #T_f8099_row10_col2, #T_f8099_row10_col3, #T_f8099_row10_col4, #T_f8099_row10_col5, #T_f8099_row10_col6, #T_f8099_row10_col7, #T_f8099_row10_col8, #T_f8099_row10_col9, #T_f8099_row10_col10, #T_f8099_row10_col11, #T_f8099_row10_col12, #T_f8099_row10_col13, #T_f8099_row10_col14, #T_f8099_row10_col15, #T_f8099_row10_col16, #T_f8099_row10_col22, #T_f8099_row11_col0, #T_f8099_row11_col1, #T_f8099_row11_col2, #T_f8099_row11_col3, #T_f8099_row11_col4, #T_f8099_row11_col5, #T_f8099_row11_col6, #T_f8099_row11_col7, #T_f8099_row11_col8, #T_f8099_row11_col9, #T_f8099_row11_col10, #T_f8099_row11_col11, #T_f8099_row11_col12, #T_f8099_row11_col13, #T_f8099_row11_col14, #T_f8099_row11_col15, #T_f8099_row11_col22, #T_f8099_row12_col0, #T_f8099_row12_col1, #T_f8099_row12_col2, #T_f8099_row12_col3, #T_f8099_row12_col4, #T_f8099_row12_col5, #T_f8099_row12_col6, #T_f8099_row12_col7, #T_f8099_row12_col8, #T_f8099_row12_col9, #T_f8099_row12_col10, #T_f8099_row12_col11, #T_f8099_row12_col12, #T_f8099_row12_col13, #T_f8099_row12_col22 {\n",
              "  font-size: 7pt;\n",
              "  background-color: #ffffff;\n",
              "  color: #000000;\n",
              "}\n",
              "#T_f8099_row5_col11 {\n",
              "  font-size: 7pt;\n",
              "  background-color: #ececec;\n",
              "  color: #000000;\n",
              "}\n",
              "#T_f8099_row5_col12 {\n",
              "  font-size: 7pt;\n",
              "  background-color: #e8e8e8;\n",
              "  color: #000000;\n",
              "}\n",
              "#T_f8099_row5_col13 {\n",
              "  font-size: 7pt;\n",
              "  background-color: #b0b0b0;\n",
              "  color: #000000;\n",
              "}\n",
              "#T_f8099_row5_col14, #T_f8099_row5_col15, #T_f8099_row5_col16, #T_f8099_row5_col17, #T_f8099_row5_col18, #T_f8099_row5_col19, #T_f8099_row6_col13, #T_f8099_row6_col20, #T_f8099_row7_col9, #T_f8099_row7_col10, #T_f8099_row7_col11, #T_f8099_row7_col12, #T_f8099_row7_col13, #T_f8099_row7_col20, #T_f8099_row7_col21, #T_f8099_row7_col22, #T_f8099_row8_col10, #T_f8099_row8_col11, #T_f8099_row8_col20, #T_f8099_row8_col21, #T_f8099_row8_col22, #T_f8099_row9_col20, #T_f8099_row10_col20, #T_f8099_row11_col20 {\n",
              "  font-size: 7pt;\n",
              "  background-color: #000000;\n",
              "  color: #f1f1f1;\n",
              "}\n",
              "#T_f8099_row5_col20 {\n",
              "  font-size: 7pt;\n",
              "  background-color: #626262;\n",
              "  color: #f1f1f1;\n",
              "}\n",
              "#T_f8099_row5_col21 {\n",
              "  font-size: 7pt;\n",
              "  background-color: #fcfcfc;\n",
              "  color: #000000;\n",
              "}\n",
              "#T_f8099_row6_col9 {\n",
              "  font-size: 7pt;\n",
              "  background-color: #dbdbdb;\n",
              "  color: #000000;\n",
              "}\n",
              "#T_f8099_row6_col10 {\n",
              "  font-size: 7pt;\n",
              "  background-color: #878787;\n",
              "  color: #f1f1f1;\n",
              "}\n",
              "#T_f8099_row6_col11 {\n",
              "  font-size: 7pt;\n",
              "  background-color: #212121;\n",
              "  color: #f1f1f1;\n",
              "}\n",
              "#T_f8099_row6_col12 {\n",
              "  font-size: 7pt;\n",
              "  background-color: #1e1e1e;\n",
              "  color: #f1f1f1;\n",
              "}\n",
              "#T_f8099_row6_col14, #T_f8099_row7_col14 {\n",
              "  font-size: 7pt;\n",
              "  background-color: #020202;\n",
              "  color: #f1f1f1;\n",
              "}\n",
              "#T_f8099_row6_col15, #T_f8099_row6_col16, #T_f8099_row6_col17, #T_f8099_row6_col18, #T_f8099_row6_col19, #T_f8099_row7_col15, #T_f8099_row7_col16, #T_f8099_row7_col17, #T_f8099_row7_col18, #T_f8099_row7_col19, #T_f8099_row8_col18, #T_f8099_row8_col19, #T_f8099_row9_col19, #T_f8099_row10_col19, #T_f8099_row11_col18, #T_f8099_row11_col19, #T_f8099_row12_col17, #T_f8099_row12_col18, #T_f8099_row12_col19 {\n",
              "  font-size: 7pt;\n",
              "  background-color: #010101;\n",
              "  color: #f1f1f1;\n",
              "}\n",
              "#T_f8099_row6_col21 {\n",
              "  font-size: 7pt;\n",
              "  background-color: #727272;\n",
              "  color: #f1f1f1;\n",
              "}\n",
              "#T_f8099_row6_col22 {\n",
              "  font-size: 7pt;\n",
              "  background-color: #dcdcdc;\n",
              "  color: #000000;\n",
              "}\n",
              "#T_f8099_row8_col9 {\n",
              "  font-size: 7pt;\n",
              "  background-color: #777777;\n",
              "  color: #f1f1f1;\n",
              "}\n",
              "#T_f8099_row8_col12 {\n",
              "  font-size: 7pt;\n",
              "  background-color: #1a1a1a;\n",
              "  color: #f1f1f1;\n",
              "}\n",
              "#T_f8099_row8_col13 {\n",
              "  font-size: 7pt;\n",
              "  background-color: #8f8f8f;\n",
              "  color: #f1f1f1;\n",
              "}\n",
              "#T_f8099_row8_col14, #T_f8099_row8_col15, #T_f8099_row8_col16 {\n",
              "  font-size: 7pt;\n",
              "  background-color: #909090;\n",
              "  color: #f1f1f1;\n",
              "}\n",
              "#T_f8099_row8_col17, #T_f8099_row11_col17 {\n",
              "  font-size: 7pt;\n",
              "  background-color: #525252;\n",
              "  color: #f1f1f1;\n",
              "}\n",
              "#T_f8099_row9_col9 {\n",
              "  font-size: 7pt;\n",
              "  background-color: #fdfdfd;\n",
              "  color: #000000;\n",
              "}\n",
              "#T_f8099_row9_col10, #T_f8099_row9_col11, #T_f8099_row9_col22 {\n",
              "  font-size: 7pt;\n",
              "  background-color: #f1f1f1;\n",
              "  color: #000000;\n",
              "}\n",
              "#T_f8099_row9_col12 {\n",
              "  font-size: 7pt;\n",
              "  background-color: #f4f4f4;\n",
              "  color: #000000;\n",
              "}\n",
              "#T_f8099_row9_col17, #T_f8099_row11_col21 {\n",
              "  font-size: 7pt;\n",
              "  background-color: #f8f8f8;\n",
              "  color: #000000;\n",
              "}\n",
              "#T_f8099_row9_col18 {\n",
              "  font-size: 7pt;\n",
              "  background-color: #1f1f1f;\n",
              "  color: #f1f1f1;\n",
              "}\n",
              "#T_f8099_row9_col21 {\n",
              "  font-size: 7pt;\n",
              "  background-color: #646464;\n",
              "  color: #f1f1f1;\n",
              "}\n",
              "#T_f8099_row10_col17 {\n",
              "  font-size: 7pt;\n",
              "  background-color: #c5c5c5;\n",
              "  color: #000000;\n",
              "}\n",
              "#T_f8099_row10_col18 {\n",
              "  font-size: 7pt;\n",
              "  background-color: #0c0c0c;\n",
              "  color: #f1f1f1;\n",
              "}\n",
              "#T_f8099_row10_col21 {\n",
              "  font-size: 7pt;\n",
              "  background-color: #828282;\n",
              "  color: #f1f1f1;\n",
              "}\n",
              "#T_f8099_row11_col16 {\n",
              "  font-size: 7pt;\n",
              "  background-color: #c3c3c3;\n",
              "  color: #000000;\n",
              "}\n",
              "#T_f8099_row12_col14 {\n",
              "  font-size: 7pt;\n",
              "  background-color: #c1c1c1;\n",
              "  color: #000000;\n",
              "}\n",
              "#T_f8099_row12_col15 {\n",
              "  font-size: 7pt;\n",
              "  background-color: #323232;\n",
              "  color: #f1f1f1;\n",
              "}\n",
              "#T_f8099_row12_col16 {\n",
              "  font-size: 7pt;\n",
              "  background-color: #070707;\n",
              "  color: #f1f1f1;\n",
              "}\n",
              "#T_f8099_row12_col20 {\n",
              "  font-size: 7pt;\n",
              "  background-color: #3c3c3c;\n",
              "  color: #f1f1f1;\n",
              "}\n",
              "#T_f8099_row12_col21 {\n",
              "  font-size: 7pt;\n",
              "  background-color: #fbfbfb;\n",
              "  color: #000000;\n",
              "}\n",
              "</style>\n",
              "<table id=\"T_f8099\" class=\"dataframe\">\n",
              "  <thead>\n",
              "    <tr>\n",
              "      <th class=\"blank level0\" >&nbsp;</th>\n",
              "      <th id=\"T_f8099_level0_col0\" class=\"col_heading level0 col0\" >0</th>\n",
              "      <th id=\"T_f8099_level0_col1\" class=\"col_heading level0 col1\" >1</th>\n",
              "      <th id=\"T_f8099_level0_col2\" class=\"col_heading level0 col2\" >2</th>\n",
              "      <th id=\"T_f8099_level0_col3\" class=\"col_heading level0 col3\" >3</th>\n",
              "      <th id=\"T_f8099_level0_col4\" class=\"col_heading level0 col4\" >4</th>\n",
              "      <th id=\"T_f8099_level0_col5\" class=\"col_heading level0 col5\" >5</th>\n",
              "      <th id=\"T_f8099_level0_col6\" class=\"col_heading level0 col6\" >6</th>\n",
              "      <th id=\"T_f8099_level0_col7\" class=\"col_heading level0 col7\" >7</th>\n",
              "      <th id=\"T_f8099_level0_col8\" class=\"col_heading level0 col8\" >8</th>\n",
              "      <th id=\"T_f8099_level0_col9\" class=\"col_heading level0 col9\" >9</th>\n",
              "      <th id=\"T_f8099_level0_col10\" class=\"col_heading level0 col10\" >10</th>\n",
              "      <th id=\"T_f8099_level0_col11\" class=\"col_heading level0 col11\" >11</th>\n",
              "      <th id=\"T_f8099_level0_col12\" class=\"col_heading level0 col12\" >12</th>\n",
              "      <th id=\"T_f8099_level0_col13\" class=\"col_heading level0 col13\" >13</th>\n",
              "      <th id=\"T_f8099_level0_col14\" class=\"col_heading level0 col14\" >14</th>\n",
              "      <th id=\"T_f8099_level0_col15\" class=\"col_heading level0 col15\" >15</th>\n",
              "      <th id=\"T_f8099_level0_col16\" class=\"col_heading level0 col16\" >16</th>\n",
              "      <th id=\"T_f8099_level0_col17\" class=\"col_heading level0 col17\" >17</th>\n",
              "      <th id=\"T_f8099_level0_col18\" class=\"col_heading level0 col18\" >18</th>\n",
              "      <th id=\"T_f8099_level0_col19\" class=\"col_heading level0 col19\" >19</th>\n",
              "      <th id=\"T_f8099_level0_col20\" class=\"col_heading level0 col20\" >20</th>\n",
              "      <th id=\"T_f8099_level0_col21\" class=\"col_heading level0 col21\" >21</th>\n",
              "      <th id=\"T_f8099_level0_col22\" class=\"col_heading level0 col22\" >22</th>\n",
              "    </tr>\n",
              "  </thead>\n",
              "  <tbody>\n",
              "    <tr>\n",
              "      <th id=\"T_f8099_level0_row0\" class=\"row_heading level0 row0\" >0</th>\n",
              "      <td id=\"T_f8099_row0_col0\" class=\"data row0 col0\" >0.00</td>\n",
              "      <td id=\"T_f8099_row0_col1\" class=\"data row0 col1\" >0.00</td>\n",
              "      <td id=\"T_f8099_row0_col2\" class=\"data row0 col2\" >0.00</td>\n",
              "      <td id=\"T_f8099_row0_col3\" class=\"data row0 col3\" >0.00</td>\n",
              "      <td id=\"T_f8099_row0_col4\" class=\"data row0 col4\" >0.00</td>\n",
              "      <td id=\"T_f8099_row0_col5\" class=\"data row0 col5\" >0.00</td>\n",
              "      <td id=\"T_f8099_row0_col6\" class=\"data row0 col6\" >0.00</td>\n",
              "      <td id=\"T_f8099_row0_col7\" class=\"data row0 col7\" >0.00</td>\n",
              "      <td id=\"T_f8099_row0_col8\" class=\"data row0 col8\" >0.00</td>\n",
              "      <td id=\"T_f8099_row0_col9\" class=\"data row0 col9\" >0.00</td>\n",
              "      <td id=\"T_f8099_row0_col10\" class=\"data row0 col10\" >0.00</td>\n",
              "      <td id=\"T_f8099_row0_col11\" class=\"data row0 col11\" >0.00</td>\n",
              "      <td id=\"T_f8099_row0_col12\" class=\"data row0 col12\" >0.00</td>\n",
              "      <td id=\"T_f8099_row0_col13\" class=\"data row0 col13\" >0.00</td>\n",
              "      <td id=\"T_f8099_row0_col14\" class=\"data row0 col14\" >0.00</td>\n",
              "      <td id=\"T_f8099_row0_col15\" class=\"data row0 col15\" >0.00</td>\n",
              "      <td id=\"T_f8099_row0_col16\" class=\"data row0 col16\" >0.00</td>\n",
              "      <td id=\"T_f8099_row0_col17\" class=\"data row0 col17\" >0.00</td>\n",
              "      <td id=\"T_f8099_row0_col18\" class=\"data row0 col18\" >0.00</td>\n",
              "      <td id=\"T_f8099_row0_col19\" class=\"data row0 col19\" >0.00</td>\n",
              "      <td id=\"T_f8099_row0_col20\" class=\"data row0 col20\" >0.00</td>\n",
              "      <td id=\"T_f8099_row0_col21\" class=\"data row0 col21\" >0.00</td>\n",
              "      <td id=\"T_f8099_row0_col22\" class=\"data row0 col22\" >0.00</td>\n",
              "    </tr>\n",
              "    <tr>\n",
              "      <th id=\"T_f8099_level0_row1\" class=\"row_heading level0 row1\" >1</th>\n",
              "      <td id=\"T_f8099_row1_col0\" class=\"data row1 col0\" >0.00</td>\n",
              "      <td id=\"T_f8099_row1_col1\" class=\"data row1 col1\" >0.00</td>\n",
              "      <td id=\"T_f8099_row1_col2\" class=\"data row1 col2\" >0.00</td>\n",
              "      <td id=\"T_f8099_row1_col3\" class=\"data row1 col3\" >0.00</td>\n",
              "      <td id=\"T_f8099_row1_col4\" class=\"data row1 col4\" >0.00</td>\n",
              "      <td id=\"T_f8099_row1_col5\" class=\"data row1 col5\" >0.00</td>\n",
              "      <td id=\"T_f8099_row1_col6\" class=\"data row1 col6\" >0.00</td>\n",
              "      <td id=\"T_f8099_row1_col7\" class=\"data row1 col7\" >0.00</td>\n",
              "      <td id=\"T_f8099_row1_col8\" class=\"data row1 col8\" >0.00</td>\n",
              "      <td id=\"T_f8099_row1_col9\" class=\"data row1 col9\" >0.00</td>\n",
              "      <td id=\"T_f8099_row1_col10\" class=\"data row1 col10\" >0.00</td>\n",
              "      <td id=\"T_f8099_row1_col11\" class=\"data row1 col11\" >0.00</td>\n",
              "      <td id=\"T_f8099_row1_col12\" class=\"data row1 col12\" >0.00</td>\n",
              "      <td id=\"T_f8099_row1_col13\" class=\"data row1 col13\" >0.00</td>\n",
              "      <td id=\"T_f8099_row1_col14\" class=\"data row1 col14\" >0.00</td>\n",
              "      <td id=\"T_f8099_row1_col15\" class=\"data row1 col15\" >0.00</td>\n",
              "      <td id=\"T_f8099_row1_col16\" class=\"data row1 col16\" >0.00</td>\n",
              "      <td id=\"T_f8099_row1_col17\" class=\"data row1 col17\" >0.00</td>\n",
              "      <td id=\"T_f8099_row1_col18\" class=\"data row1 col18\" >0.00</td>\n",
              "      <td id=\"T_f8099_row1_col19\" class=\"data row1 col19\" >0.00</td>\n",
              "      <td id=\"T_f8099_row1_col20\" class=\"data row1 col20\" >0.00</td>\n",
              "      <td id=\"T_f8099_row1_col21\" class=\"data row1 col21\" >0.00</td>\n",
              "      <td id=\"T_f8099_row1_col22\" class=\"data row1 col22\" >0.00</td>\n",
              "    </tr>\n",
              "    <tr>\n",
              "      <th id=\"T_f8099_level0_row2\" class=\"row_heading level0 row2\" >2</th>\n",
              "      <td id=\"T_f8099_row2_col0\" class=\"data row2 col0\" >0.00</td>\n",
              "      <td id=\"T_f8099_row2_col1\" class=\"data row2 col1\" >0.00</td>\n",
              "      <td id=\"T_f8099_row2_col2\" class=\"data row2 col2\" >0.00</td>\n",
              "      <td id=\"T_f8099_row2_col3\" class=\"data row2 col3\" >0.00</td>\n",
              "      <td id=\"T_f8099_row2_col4\" class=\"data row2 col4\" >0.00</td>\n",
              "      <td id=\"T_f8099_row2_col5\" class=\"data row2 col5\" >0.00</td>\n",
              "      <td id=\"T_f8099_row2_col6\" class=\"data row2 col6\" >0.00</td>\n",
              "      <td id=\"T_f8099_row2_col7\" class=\"data row2 col7\" >0.00</td>\n",
              "      <td id=\"T_f8099_row2_col8\" class=\"data row2 col8\" >0.00</td>\n",
              "      <td id=\"T_f8099_row2_col9\" class=\"data row2 col9\" >0.00</td>\n",
              "      <td id=\"T_f8099_row2_col10\" class=\"data row2 col10\" >0.00</td>\n",
              "      <td id=\"T_f8099_row2_col11\" class=\"data row2 col11\" >0.00</td>\n",
              "      <td id=\"T_f8099_row2_col12\" class=\"data row2 col12\" >0.00</td>\n",
              "      <td id=\"T_f8099_row2_col13\" class=\"data row2 col13\" >0.00</td>\n",
              "      <td id=\"T_f8099_row2_col14\" class=\"data row2 col14\" >0.00</td>\n",
              "      <td id=\"T_f8099_row2_col15\" class=\"data row2 col15\" >0.00</td>\n",
              "      <td id=\"T_f8099_row2_col16\" class=\"data row2 col16\" >0.00</td>\n",
              "      <td id=\"T_f8099_row2_col17\" class=\"data row2 col17\" >0.00</td>\n",
              "      <td id=\"T_f8099_row2_col18\" class=\"data row2 col18\" >0.00</td>\n",
              "      <td id=\"T_f8099_row2_col19\" class=\"data row2 col19\" >0.00</td>\n",
              "      <td id=\"T_f8099_row2_col20\" class=\"data row2 col20\" >0.00</td>\n",
              "      <td id=\"T_f8099_row2_col21\" class=\"data row2 col21\" >0.00</td>\n",
              "      <td id=\"T_f8099_row2_col22\" class=\"data row2 col22\" >0.00</td>\n",
              "    </tr>\n",
              "    <tr>\n",
              "      <th id=\"T_f8099_level0_row3\" class=\"row_heading level0 row3\" >3</th>\n",
              "      <td id=\"T_f8099_row3_col0\" class=\"data row3 col0\" >0.00</td>\n",
              "      <td id=\"T_f8099_row3_col1\" class=\"data row3 col1\" >0.00</td>\n",
              "      <td id=\"T_f8099_row3_col2\" class=\"data row3 col2\" >0.00</td>\n",
              "      <td id=\"T_f8099_row3_col3\" class=\"data row3 col3\" >0.00</td>\n",
              "      <td id=\"T_f8099_row3_col4\" class=\"data row3 col4\" >0.00</td>\n",
              "      <td id=\"T_f8099_row3_col5\" class=\"data row3 col5\" >0.00</td>\n",
              "      <td id=\"T_f8099_row3_col6\" class=\"data row3 col6\" >0.00</td>\n",
              "      <td id=\"T_f8099_row3_col7\" class=\"data row3 col7\" >0.00</td>\n",
              "      <td id=\"T_f8099_row3_col8\" class=\"data row3 col8\" >0.00</td>\n",
              "      <td id=\"T_f8099_row3_col9\" class=\"data row3 col9\" >0.00</td>\n",
              "      <td id=\"T_f8099_row3_col10\" class=\"data row3 col10\" >0.00</td>\n",
              "      <td id=\"T_f8099_row3_col11\" class=\"data row3 col11\" >0.00</td>\n",
              "      <td id=\"T_f8099_row3_col12\" class=\"data row3 col12\" >0.00</td>\n",
              "      <td id=\"T_f8099_row3_col13\" class=\"data row3 col13\" >0.00</td>\n",
              "      <td id=\"T_f8099_row3_col14\" class=\"data row3 col14\" >0.00</td>\n",
              "      <td id=\"T_f8099_row3_col15\" class=\"data row3 col15\" >0.00</td>\n",
              "      <td id=\"T_f8099_row3_col16\" class=\"data row3 col16\" >0.00</td>\n",
              "      <td id=\"T_f8099_row3_col17\" class=\"data row3 col17\" >0.00</td>\n",
              "      <td id=\"T_f8099_row3_col18\" class=\"data row3 col18\" >0.00</td>\n",
              "      <td id=\"T_f8099_row3_col19\" class=\"data row3 col19\" >0.00</td>\n",
              "      <td id=\"T_f8099_row3_col20\" class=\"data row3 col20\" >0.00</td>\n",
              "      <td id=\"T_f8099_row3_col21\" class=\"data row3 col21\" >0.00</td>\n",
              "      <td id=\"T_f8099_row3_col22\" class=\"data row3 col22\" >0.00</td>\n",
              "    </tr>\n",
              "    <tr>\n",
              "      <th id=\"T_f8099_level0_row4\" class=\"row_heading level0 row4\" >4</th>\n",
              "      <td id=\"T_f8099_row4_col0\" class=\"data row4 col0\" >0.00</td>\n",
              "      <td id=\"T_f8099_row4_col1\" class=\"data row4 col1\" >0.00</td>\n",
              "      <td id=\"T_f8099_row4_col2\" class=\"data row4 col2\" >0.00</td>\n",
              "      <td id=\"T_f8099_row4_col3\" class=\"data row4 col3\" >0.00</td>\n",
              "      <td id=\"T_f8099_row4_col4\" class=\"data row4 col4\" >0.00</td>\n",
              "      <td id=\"T_f8099_row4_col5\" class=\"data row4 col5\" >0.00</td>\n",
              "      <td id=\"T_f8099_row4_col6\" class=\"data row4 col6\" >0.00</td>\n",
              "      <td id=\"T_f8099_row4_col7\" class=\"data row4 col7\" >0.00</td>\n",
              "      <td id=\"T_f8099_row4_col8\" class=\"data row4 col8\" >0.00</td>\n",
              "      <td id=\"T_f8099_row4_col9\" class=\"data row4 col9\" >0.00</td>\n",
              "      <td id=\"T_f8099_row4_col10\" class=\"data row4 col10\" >0.00</td>\n",
              "      <td id=\"T_f8099_row4_col11\" class=\"data row4 col11\" >0.00</td>\n",
              "      <td id=\"T_f8099_row4_col12\" class=\"data row4 col12\" >0.00</td>\n",
              "      <td id=\"T_f8099_row4_col13\" class=\"data row4 col13\" >0.00</td>\n",
              "      <td id=\"T_f8099_row4_col14\" class=\"data row4 col14\" >0.00</td>\n",
              "      <td id=\"T_f8099_row4_col15\" class=\"data row4 col15\" >0.00</td>\n",
              "      <td id=\"T_f8099_row4_col16\" class=\"data row4 col16\" >0.00</td>\n",
              "      <td id=\"T_f8099_row4_col17\" class=\"data row4 col17\" >0.00</td>\n",
              "      <td id=\"T_f8099_row4_col18\" class=\"data row4 col18\" >0.00</td>\n",
              "      <td id=\"T_f8099_row4_col19\" class=\"data row4 col19\" >0.00</td>\n",
              "      <td id=\"T_f8099_row4_col20\" class=\"data row4 col20\" >0.00</td>\n",
              "      <td id=\"T_f8099_row4_col21\" class=\"data row4 col21\" >0.00</td>\n",
              "      <td id=\"T_f8099_row4_col22\" class=\"data row4 col22\" >0.00</td>\n",
              "    </tr>\n",
              "    <tr>\n",
              "      <th id=\"T_f8099_level0_row5\" class=\"row_heading level0 row5\" >5</th>\n",
              "      <td id=\"T_f8099_row5_col0\" class=\"data row5 col0\" >0.00</td>\n",
              "      <td id=\"T_f8099_row5_col1\" class=\"data row5 col1\" >0.00</td>\n",
              "      <td id=\"T_f8099_row5_col2\" class=\"data row5 col2\" >0.00</td>\n",
              "      <td id=\"T_f8099_row5_col3\" class=\"data row5 col3\" >0.00</td>\n",
              "      <td id=\"T_f8099_row5_col4\" class=\"data row5 col4\" >0.00</td>\n",
              "      <td id=\"T_f8099_row5_col5\" class=\"data row5 col5\" >0.00</td>\n",
              "      <td id=\"T_f8099_row5_col6\" class=\"data row5 col6\" >0.00</td>\n",
              "      <td id=\"T_f8099_row5_col7\" class=\"data row5 col7\" >0.00</td>\n",
              "      <td id=\"T_f8099_row5_col8\" class=\"data row5 col8\" >0.00</td>\n",
              "      <td id=\"T_f8099_row5_col9\" class=\"data row5 col9\" >0.00</td>\n",
              "      <td id=\"T_f8099_row5_col10\" class=\"data row5 col10\" >0.00</td>\n",
              "      <td id=\"T_f8099_row5_col11\" class=\"data row5 col11\" >0.15</td>\n",
              "      <td id=\"T_f8099_row5_col12\" class=\"data row5 col12\" >0.17</td>\n",
              "      <td id=\"T_f8099_row5_col13\" class=\"data row5 col13\" >0.41</td>\n",
              "      <td id=\"T_f8099_row5_col14\" class=\"data row5 col14\" >1.00</td>\n",
              "      <td id=\"T_f8099_row5_col15\" class=\"data row5 col15\" >0.99</td>\n",
              "      <td id=\"T_f8099_row5_col16\" class=\"data row5 col16\" >0.99</td>\n",
              "      <td id=\"T_f8099_row5_col17\" class=\"data row5 col17\" >0.99</td>\n",
              "      <td id=\"T_f8099_row5_col18\" class=\"data row5 col18\" >0.99</td>\n",
              "      <td id=\"T_f8099_row5_col19\" class=\"data row5 col19\" >0.99</td>\n",
              "      <td id=\"T_f8099_row5_col20\" class=\"data row5 col20\" >0.68</td>\n",
              "      <td id=\"T_f8099_row5_col21\" class=\"data row5 col21\" >0.02</td>\n",
              "      <td id=\"T_f8099_row5_col22\" class=\"data row5 col22\" >0.00</td>\n",
              "    </tr>\n",
              "    <tr>\n",
              "      <th id=\"T_f8099_level0_row6\" class=\"row_heading level0 row6\" >6</th>\n",
              "      <td id=\"T_f8099_row6_col0\" class=\"data row6 col0\" >0.00</td>\n",
              "      <td id=\"T_f8099_row6_col1\" class=\"data row6 col1\" >0.00</td>\n",
              "      <td id=\"T_f8099_row6_col2\" class=\"data row6 col2\" >0.00</td>\n",
              "      <td id=\"T_f8099_row6_col3\" class=\"data row6 col3\" >0.00</td>\n",
              "      <td id=\"T_f8099_row6_col4\" class=\"data row6 col4\" >0.00</td>\n",
              "      <td id=\"T_f8099_row6_col5\" class=\"data row6 col5\" >0.00</td>\n",
              "      <td id=\"T_f8099_row6_col6\" class=\"data row6 col6\" >0.00</td>\n",
              "      <td id=\"T_f8099_row6_col7\" class=\"data row6 col7\" >0.00</td>\n",
              "      <td id=\"T_f8099_row6_col8\" class=\"data row6 col8\" >0.00</td>\n",
              "      <td id=\"T_f8099_row6_col9\" class=\"data row6 col9\" >0.17</td>\n",
              "      <td id=\"T_f8099_row6_col10\" class=\"data row6 col10\" >0.54</td>\n",
              "      <td id=\"T_f8099_row6_col11\" class=\"data row6 col11\" >0.88</td>\n",
              "      <td id=\"T_f8099_row6_col12\" class=\"data row6 col12\" >0.88</td>\n",
              "      <td id=\"T_f8099_row6_col13\" class=\"data row6 col13\" >0.98</td>\n",
              "      <td id=\"T_f8099_row6_col14\" class=\"data row6 col14\" >0.99</td>\n",
              "      <td id=\"T_f8099_row6_col15\" class=\"data row6 col15\" >0.98</td>\n",
              "      <td id=\"T_f8099_row6_col16\" class=\"data row6 col16\" >0.98</td>\n",
              "      <td id=\"T_f8099_row6_col17\" class=\"data row6 col17\" >0.98</td>\n",
              "      <td id=\"T_f8099_row6_col18\" class=\"data row6 col18\" >0.98</td>\n",
              "      <td id=\"T_f8099_row6_col19\" class=\"data row6 col19\" >0.98</td>\n",
              "      <td id=\"T_f8099_row6_col20\" class=\"data row6 col20\" >0.98</td>\n",
              "      <td id=\"T_f8099_row6_col21\" class=\"data row6 col21\" >0.62</td>\n",
              "      <td id=\"T_f8099_row6_col22\" class=\"data row6 col22\" >0.05</td>\n",
              "    </tr>\n",
              "    <tr>\n",
              "      <th id=\"T_f8099_level0_row7\" class=\"row_heading level0 row7\" >7</th>\n",
              "      <td id=\"T_f8099_row7_col0\" class=\"data row7 col0\" >0.00</td>\n",
              "      <td id=\"T_f8099_row7_col1\" class=\"data row7 col1\" >0.00</td>\n",
              "      <td id=\"T_f8099_row7_col2\" class=\"data row7 col2\" >0.00</td>\n",
              "      <td id=\"T_f8099_row7_col3\" class=\"data row7 col3\" >0.00</td>\n",
              "      <td id=\"T_f8099_row7_col4\" class=\"data row7 col4\" >0.00</td>\n",
              "      <td id=\"T_f8099_row7_col5\" class=\"data row7 col5\" >0.00</td>\n",
              "      <td id=\"T_f8099_row7_col6\" class=\"data row7 col6\" >0.00</td>\n",
              "      <td id=\"T_f8099_row7_col7\" class=\"data row7 col7\" >0.00</td>\n",
              "      <td id=\"T_f8099_row7_col8\" class=\"data row7 col8\" >0.00</td>\n",
              "      <td id=\"T_f8099_row7_col9\" class=\"data row7 col9\" >0.70</td>\n",
              "      <td id=\"T_f8099_row7_col10\" class=\"data row7 col10\" >0.98</td>\n",
              "      <td id=\"T_f8099_row7_col11\" class=\"data row7 col11\" >0.98</td>\n",
              "      <td id=\"T_f8099_row7_col12\" class=\"data row7 col12\" >0.98</td>\n",
              "      <td id=\"T_f8099_row7_col13\" class=\"data row7 col13\" >0.98</td>\n",
              "      <td id=\"T_f8099_row7_col14\" class=\"data row7 col14\" >0.99</td>\n",
              "      <td id=\"T_f8099_row7_col15\" class=\"data row7 col15\" >0.98</td>\n",
              "      <td id=\"T_f8099_row7_col16\" class=\"data row7 col16\" >0.98</td>\n",
              "      <td id=\"T_f8099_row7_col17\" class=\"data row7 col17\" >0.98</td>\n",
              "      <td id=\"T_f8099_row7_col18\" class=\"data row7 col18\" >0.98</td>\n",
              "      <td id=\"T_f8099_row7_col19\" class=\"data row7 col19\" >0.98</td>\n",
              "      <td id=\"T_f8099_row7_col20\" class=\"data row7 col20\" >0.98</td>\n",
              "      <td id=\"T_f8099_row7_col21\" class=\"data row7 col21\" >0.98</td>\n",
              "      <td id=\"T_f8099_row7_col22\" class=\"data row7 col22\" >0.23</td>\n",
              "    </tr>\n",
              "    <tr>\n",
              "      <th id=\"T_f8099_level0_row8\" class=\"row_heading level0 row8\" >8</th>\n",
              "      <td id=\"T_f8099_row8_col0\" class=\"data row8 col0\" >0.00</td>\n",
              "      <td id=\"T_f8099_row8_col1\" class=\"data row8 col1\" >0.00</td>\n",
              "      <td id=\"T_f8099_row8_col2\" class=\"data row8 col2\" >0.00</td>\n",
              "      <td id=\"T_f8099_row8_col3\" class=\"data row8 col3\" >0.00</td>\n",
              "      <td id=\"T_f8099_row8_col4\" class=\"data row8 col4\" >0.00</td>\n",
              "      <td id=\"T_f8099_row8_col5\" class=\"data row8 col5\" >0.00</td>\n",
              "      <td id=\"T_f8099_row8_col6\" class=\"data row8 col6\" >0.00</td>\n",
              "      <td id=\"T_f8099_row8_col7\" class=\"data row8 col7\" >0.00</td>\n",
              "      <td id=\"T_f8099_row8_col8\" class=\"data row8 col8\" >0.00</td>\n",
              "      <td id=\"T_f8099_row8_col9\" class=\"data row8 col9\" >0.43</td>\n",
              "      <td id=\"T_f8099_row8_col10\" class=\"data row8 col10\" >0.98</td>\n",
              "      <td id=\"T_f8099_row8_col11\" class=\"data row8 col11\" >0.98</td>\n",
              "      <td id=\"T_f8099_row8_col12\" class=\"data row8 col12\" >0.90</td>\n",
              "      <td id=\"T_f8099_row8_col13\" class=\"data row8 col13\" >0.52</td>\n",
              "      <td id=\"T_f8099_row8_col14\" class=\"data row8 col14\" >0.52</td>\n",
              "      <td id=\"T_f8099_row8_col15\" class=\"data row8 col15\" >0.52</td>\n",
              "      <td id=\"T_f8099_row8_col16\" class=\"data row8 col16\" >0.52</td>\n",
              "      <td id=\"T_f8099_row8_col17\" class=\"data row8 col17\" >0.74</td>\n",
              "      <td id=\"T_f8099_row8_col18\" class=\"data row8 col18\" >0.98</td>\n",
              "      <td id=\"T_f8099_row8_col19\" class=\"data row8 col19\" >0.98</td>\n",
              "      <td id=\"T_f8099_row8_col20\" class=\"data row8 col20\" >0.98</td>\n",
              "      <td id=\"T_f8099_row8_col21\" class=\"data row8 col21\" >0.98</td>\n",
              "      <td id=\"T_f8099_row8_col22\" class=\"data row8 col22\" >0.23</td>\n",
              "    </tr>\n",
              "    <tr>\n",
              "      <th id=\"T_f8099_level0_row9\" class=\"row_heading level0 row9\" >9</th>\n",
              "      <td id=\"T_f8099_row9_col0\" class=\"data row9 col0\" >0.00</td>\n",
              "      <td id=\"T_f8099_row9_col1\" class=\"data row9 col1\" >0.00</td>\n",
              "      <td id=\"T_f8099_row9_col2\" class=\"data row9 col2\" >0.00</td>\n",
              "      <td id=\"T_f8099_row9_col3\" class=\"data row9 col3\" >0.00</td>\n",
              "      <td id=\"T_f8099_row9_col4\" class=\"data row9 col4\" >0.00</td>\n",
              "      <td id=\"T_f8099_row9_col5\" class=\"data row9 col5\" >0.00</td>\n",
              "      <td id=\"T_f8099_row9_col6\" class=\"data row9 col6\" >0.00</td>\n",
              "      <td id=\"T_f8099_row9_col7\" class=\"data row9 col7\" >0.00</td>\n",
              "      <td id=\"T_f8099_row9_col8\" class=\"data row9 col8\" >0.00</td>\n",
              "      <td id=\"T_f8099_row9_col9\" class=\"data row9 col9\" >0.02</td>\n",
              "      <td id=\"T_f8099_row9_col10\" class=\"data row9 col10\" >0.11</td>\n",
              "      <td id=\"T_f8099_row9_col11\" class=\"data row9 col11\" >0.11</td>\n",
              "      <td id=\"T_f8099_row9_col12\" class=\"data row9 col12\" >0.09</td>\n",
              "      <td id=\"T_f8099_row9_col13\" class=\"data row9 col13\" >0.00</td>\n",
              "      <td id=\"T_f8099_row9_col14\" class=\"data row9 col14\" >0.00</td>\n",
              "      <td id=\"T_f8099_row9_col15\" class=\"data row9 col15\" >0.00</td>\n",
              "      <td id=\"T_f8099_row9_col16\" class=\"data row9 col16\" >0.00</td>\n",
              "      <td id=\"T_f8099_row9_col17\" class=\"data row9 col17\" >0.05</td>\n",
              "      <td id=\"T_f8099_row9_col18\" class=\"data row9 col18\" >0.88</td>\n",
              "      <td id=\"T_f8099_row9_col19\" class=\"data row9 col19\" >0.98</td>\n",
              "      <td id=\"T_f8099_row9_col20\" class=\"data row9 col20\" >0.98</td>\n",
              "      <td id=\"T_f8099_row9_col21\" class=\"data row9 col21\" >0.67</td>\n",
              "      <td id=\"T_f8099_row9_col22\" class=\"data row9 col22\" >0.03</td>\n",
              "    </tr>\n",
              "    <tr>\n",
              "      <th id=\"T_f8099_level0_row10\" class=\"row_heading level0 row10\" >10</th>\n",
              "      <td id=\"T_f8099_row10_col0\" class=\"data row10 col0\" >0.00</td>\n",
              "      <td id=\"T_f8099_row10_col1\" class=\"data row10 col1\" >0.00</td>\n",
              "      <td id=\"T_f8099_row10_col2\" class=\"data row10 col2\" >0.00</td>\n",
              "      <td id=\"T_f8099_row10_col3\" class=\"data row10 col3\" >0.00</td>\n",
              "      <td id=\"T_f8099_row10_col4\" class=\"data row10 col4\" >0.00</td>\n",
              "      <td id=\"T_f8099_row10_col5\" class=\"data row10 col5\" >0.00</td>\n",
              "      <td id=\"T_f8099_row10_col6\" class=\"data row10 col6\" >0.00</td>\n",
              "      <td id=\"T_f8099_row10_col7\" class=\"data row10 col7\" >0.00</td>\n",
              "      <td id=\"T_f8099_row10_col8\" class=\"data row10 col8\" >0.00</td>\n",
              "      <td id=\"T_f8099_row10_col9\" class=\"data row10 col9\" >0.00</td>\n",
              "      <td id=\"T_f8099_row10_col10\" class=\"data row10 col10\" >0.00</td>\n",
              "      <td id=\"T_f8099_row10_col11\" class=\"data row10 col11\" >0.00</td>\n",
              "      <td id=\"T_f8099_row10_col12\" class=\"data row10 col12\" >0.00</td>\n",
              "      <td id=\"T_f8099_row10_col13\" class=\"data row10 col13\" >0.00</td>\n",
              "      <td id=\"T_f8099_row10_col14\" class=\"data row10 col14\" >0.00</td>\n",
              "      <td id=\"T_f8099_row10_col15\" class=\"data row10 col15\" >0.00</td>\n",
              "      <td id=\"T_f8099_row10_col16\" class=\"data row10 col16\" >0.00</td>\n",
              "      <td id=\"T_f8099_row10_col17\" class=\"data row10 col17\" >0.33</td>\n",
              "      <td id=\"T_f8099_row10_col18\" class=\"data row10 col18\" >0.95</td>\n",
              "      <td id=\"T_f8099_row10_col19\" class=\"data row10 col19\" >0.98</td>\n",
              "      <td id=\"T_f8099_row10_col20\" class=\"data row10 col20\" >0.98</td>\n",
              "      <td id=\"T_f8099_row10_col21\" class=\"data row10 col21\" >0.56</td>\n",
              "      <td id=\"T_f8099_row10_col22\" class=\"data row10 col22\" >0.00</td>\n",
              "    </tr>\n",
              "    <tr>\n",
              "      <th id=\"T_f8099_level0_row11\" class=\"row_heading level0 row11\" >11</th>\n",
              "      <td id=\"T_f8099_row11_col0\" class=\"data row11 col0\" >0.00</td>\n",
              "      <td id=\"T_f8099_row11_col1\" class=\"data row11 col1\" >0.00</td>\n",
              "      <td id=\"T_f8099_row11_col2\" class=\"data row11 col2\" >0.00</td>\n",
              "      <td id=\"T_f8099_row11_col3\" class=\"data row11 col3\" >0.00</td>\n",
              "      <td id=\"T_f8099_row11_col4\" class=\"data row11 col4\" >0.00</td>\n",
              "      <td id=\"T_f8099_row11_col5\" class=\"data row11 col5\" >0.00</td>\n",
              "      <td id=\"T_f8099_row11_col6\" class=\"data row11 col6\" >0.00</td>\n",
              "      <td id=\"T_f8099_row11_col7\" class=\"data row11 col7\" >0.00</td>\n",
              "      <td id=\"T_f8099_row11_col8\" class=\"data row11 col8\" >0.00</td>\n",
              "      <td id=\"T_f8099_row11_col9\" class=\"data row11 col9\" >0.00</td>\n",
              "      <td id=\"T_f8099_row11_col10\" class=\"data row11 col10\" >0.00</td>\n",
              "      <td id=\"T_f8099_row11_col11\" class=\"data row11 col11\" >0.00</td>\n",
              "      <td id=\"T_f8099_row11_col12\" class=\"data row11 col12\" >0.00</td>\n",
              "      <td id=\"T_f8099_row11_col13\" class=\"data row11 col13\" >0.00</td>\n",
              "      <td id=\"T_f8099_row11_col14\" class=\"data row11 col14\" >0.00</td>\n",
              "      <td id=\"T_f8099_row11_col15\" class=\"data row11 col15\" >0.00</td>\n",
              "      <td id=\"T_f8099_row11_col16\" class=\"data row11 col16\" >0.34</td>\n",
              "      <td id=\"T_f8099_row11_col17\" class=\"data row11 col17\" >0.74</td>\n",
              "      <td id=\"T_f8099_row11_col18\" class=\"data row11 col18\" >0.98</td>\n",
              "      <td id=\"T_f8099_row11_col19\" class=\"data row11 col19\" >0.98</td>\n",
              "      <td id=\"T_f8099_row11_col20\" class=\"data row11 col20\" >0.98</td>\n",
              "      <td id=\"T_f8099_row11_col21\" class=\"data row11 col21\" >0.05</td>\n",
              "      <td id=\"T_f8099_row11_col22\" class=\"data row11 col22\" >0.00</td>\n",
              "    </tr>\n",
              "    <tr>\n",
              "      <th id=\"T_f8099_level0_row12\" class=\"row_heading level0 row12\" >12</th>\n",
              "      <td id=\"T_f8099_row12_col0\" class=\"data row12 col0\" >0.00</td>\n",
              "      <td id=\"T_f8099_row12_col1\" class=\"data row12 col1\" >0.00</td>\n",
              "      <td id=\"T_f8099_row12_col2\" class=\"data row12 col2\" >0.00</td>\n",
              "      <td id=\"T_f8099_row12_col3\" class=\"data row12 col3\" >0.00</td>\n",
              "      <td id=\"T_f8099_row12_col4\" class=\"data row12 col4\" >0.00</td>\n",
              "      <td id=\"T_f8099_row12_col5\" class=\"data row12 col5\" >0.00</td>\n",
              "      <td id=\"T_f8099_row12_col6\" class=\"data row12 col6\" >0.00</td>\n",
              "      <td id=\"T_f8099_row12_col7\" class=\"data row12 col7\" >0.00</td>\n",
              "      <td id=\"T_f8099_row12_col8\" class=\"data row12 col8\" >0.00</td>\n",
              "      <td id=\"T_f8099_row12_col9\" class=\"data row12 col9\" >0.00</td>\n",
              "      <td id=\"T_f8099_row12_col10\" class=\"data row12 col10\" >0.00</td>\n",
              "      <td id=\"T_f8099_row12_col11\" class=\"data row12 col11\" >0.00</td>\n",
              "      <td id=\"T_f8099_row12_col12\" class=\"data row12 col12\" >0.00</td>\n",
              "      <td id=\"T_f8099_row12_col13\" class=\"data row12 col13\" >0.00</td>\n",
              "      <td id=\"T_f8099_row12_col14\" class=\"data row12 col14\" >0.36</td>\n",
              "      <td id=\"T_f8099_row12_col15\" class=\"data row12 col15\" >0.83</td>\n",
              "      <td id=\"T_f8099_row12_col16\" class=\"data row12 col16\" >0.96</td>\n",
              "      <td id=\"T_f8099_row12_col17\" class=\"data row12 col17\" >0.98</td>\n",
              "      <td id=\"T_f8099_row12_col18\" class=\"data row12 col18\" >0.98</td>\n",
              "      <td id=\"T_f8099_row12_col19\" class=\"data row12 col19\" >0.98</td>\n",
              "      <td id=\"T_f8099_row12_col20\" class=\"data row12 col20\" >0.80</td>\n",
              "      <td id=\"T_f8099_row12_col21\" class=\"data row12 col21\" >0.04</td>\n",
              "      <td id=\"T_f8099_row12_col22\" class=\"data row12 col22\" >0.00</td>\n",
              "    </tr>\n",
              "  </tbody>\n",
              "</table>\n"
            ]
          },
          "metadata": {},
          "execution_count": 30
        }
      ],
      "source": [
        "df = pd.DataFrame(im3[:13,:23])\n",
        "df.style.format(precision=2).set_properties(**{'font-size':'7pt'}).background_gradient('Greys')"
      ]
    },
    {
      "cell_type": "code",
      "execution_count": 31,
      "metadata": {
        "colab": {
          "base_uri": "https://localhost:8080/"
        },
        "id": "lp_eCAJ-hUbb",
        "outputId": "4f75bb72-c62f-4c1c-aeee-52a0ba363347"
      },
      "outputs": [
        {
          "output_type": "execute_result",
          "data": {
            "text/plain": [
              "tensor(2.9727)"
            ]
          },
          "metadata": {},
          "execution_count": 31
        }
      ],
      "source": [
        "(im3[3:6,14:17] * top_edge).sum()"
      ]
    },
    {
      "cell_type": "code",
      "execution_count": 32,
      "metadata": {
        "colab": {
          "base_uri": "https://localhost:8080/"
        },
        "id": "Zfd75IKDhUbc",
        "outputId": "75bf0ca3-d028-4e56-a8c0-22efb8fc7721"
      },
      "outputs": [
        {
          "output_type": "execute_result",
          "data": {
            "text/plain": [
              "tensor(-2.9570)"
            ]
          },
          "metadata": {},
          "execution_count": 32
        }
      ],
      "source": [
        "(im3[7:10,14:17] * top_edge).sum()"
      ]
    },
    {
      "cell_type": "code",
      "execution_count": 33,
      "metadata": {
        "id": "BRbyowvchUbc"
      },
      "outputs": [],
      "source": [
        "def apply_kernel(row, col, kernel): return (im3[row-1:row+2,col-1:col+2] * kernel).sum()"
      ]
    },
    {
      "cell_type": "code",
      "execution_count": 34,
      "metadata": {
        "colab": {
          "base_uri": "https://localhost:8080/"
        },
        "id": "DT_kd-YhhUbc",
        "outputId": "540332a2-903f-4e81-88c0-59e167327e50"
      },
      "outputs": [
        {
          "output_type": "execute_result",
          "data": {
            "text/plain": [
              "tensor(2.9727)"
            ]
          },
          "metadata": {},
          "execution_count": 34
        }
      ],
      "source": [
        "apply_kernel(4,15,top_edge)"
      ]
    },
    {
      "cell_type": "markdown",
      "metadata": {
        "id": "m9n5CcA-hUbc"
      },
      "source": [
        "<img src=\"https://github.com/fastai/course22p2/blob/master/nbs/images/chapter9_nopadconv.svg?raw=1\" id=\"nopad_conv\" caption=\"Applying a kernel across a grid\" alt=\"Applying a kernel across a grid\" width=\"400\">"
      ]
    },
    {
      "cell_type": "code",
      "execution_count": 35,
      "metadata": {
        "colab": {
          "base_uri": "https://localhost:8080/"
        },
        "id": "vwavcbs8hUbd",
        "outputId": "43301dad-f7b3-47bf-a2ee-b9f75f30259c"
      },
      "outputs": [
        {
          "output_type": "execute_result",
          "data": {
            "text/plain": [
              "[[(1, 0), (1, 1), (1, 2)], [(2, 0), (2, 1), (2, 2)], [(3, 0), (3, 1), (3, 2)]]"
            ]
          },
          "metadata": {},
          "execution_count": 35
        }
      ],
      "source": [
        "[[(i,j) for j in range(3)] for i in range(1, 4)]"
      ]
    },
    {
      "cell_type": "code",
      "execution_count": 36,
      "metadata": {
        "colab": {
          "base_uri": "https://localhost:8080/",
          "height": 133
        },
        "id": "GX0HRLMxhUbd",
        "outputId": "8bcec072-417e-4c60-8d4a-8e896249801b"
      },
      "outputs": [
        {
          "output_type": "display_data",
          "data": {
            "text/plain": [
              "<Figure size 192x144 with 1 Axes>"
            ],
            "image/png": "[encoded data removed]"
          },
          "metadata": {}
        }
      ],
      "source": [
        "rng = range(1,27)\n",
        "top_edge3 = tensor([[apply_kernel(i,j,top_edge) for j in rng] for i in rng])\n",
        "show_image(top_edge3);"
      ]
    },
    {
      "cell_type": "code",
      "execution_count": 37,
      "metadata": {
        "id": "Ekg2Koz2hUbd"
      },
      "outputs": [],
      "source": [
        "left_edge = tensor([[-1,0,1],\n",
        "                    [-1,0,1],\n",
        "                    [-1,0,1]]).float()"
      ]
    },
    {
      "cell_type": "code",
      "execution_count": 38,
      "metadata": {
        "colab": {
          "base_uri": "https://localhost:8080/",
          "height": 133
        },
        "id": "LRgVQv6FhUbe",
        "outputId": "2f28fc8e-e56d-4dc6-9720-c9d30cf2a08d"
      },
      "outputs": [
        {
          "output_type": "display_data",
          "data": {
            "text/plain": [
              "<Figure size 192x144 with 1 Axes>"
            ],
            "image/png": "[encoded data removed]"
          },
          "metadata": {}
        }
      ],
      "source": [
        "show_image(left_edge, noframe=False);"
      ]
    },
    {
      "cell_type": "code",
      "execution_count": 39,
      "metadata": {
        "colab": {
          "base_uri": "https://localhost:8080/",
          "height": 133
        },
        "id": "isT3r6PthUbe",
        "outputId": "77652324-56e5-4b72-ab60-28ba8a00ae6e"
      },
      "outputs": [
        {
          "output_type": "display_data",
          "data": {
            "text/plain": [
              "<Figure size 192x144 with 1 Axes>"
            ],
            "image/png": "[encoded data removed]"
          },
          "metadata": {}
        }
      ],
      "source": [
        "left_edge3 = tensor([[apply_kernel(i,j,left_edge) for j in rng] for i in rng])\n",
        "show_image(left_edge3);"
      ]
    },
    {
      "cell_type": "markdown",
      "metadata": {
        "id": "uidrgfAwhUbf"
      },
      "source": [
        "<img alt=\"Result of applying a 3×3 kernel to a 4×4 image\" width=\"782\" caption=\"Result of applying a 3×3 kernel to a 4×4 image (courtesy of Vincent Dumoulin and Francesco Visin)\" id=\"three_ex_four_conv\" src=\"https://github.com/fastai/course22p2/blob/master/nbs/images/att_00028.png?raw=1\">"
      ]
    },
    {
      "cell_type": "markdown",
      "metadata": {
        "id": "9x26x3yahUbf"
      },
      "source": [
        "### Convolutions in PyTorch"
      ]
    },
    {
      "cell_type": "code",
      "execution_count": 40,
      "metadata": {
        "id": "4GZCFZ3NhUbf"
      },
      "outputs": [],
      "source": [
        "import torch.nn.functional as F\n",
        "import torch"
      ]
    },
    {
      "cell_type": "markdown",
      "metadata": {
        "id": "sztPpV4ehUbf"
      },
      "source": [
        "What to do if you have [2 months to complete your thesis](https://github.com/Yangqing/caffe/wiki/Convolution-in-Caffe:-a-memo)? Use [im2col](https://hal.inria.fr/inria-00112631/)."
      ]
    },
    {
      "cell_type": "markdown",
      "metadata": {
        "id": "YRKxndNZhUbf"
      },
      "source": [
        "![image.png](attachment:image.png)"
      ]
    },
    {
      "cell_type": "markdown",
      "metadata": {
        "id": "nwqy1bDIhUbl"
      },
      "source": [
        "Here's a sample [numpy implementation](https://github.com/3outeille/CNNumpy/blob/5394f13e7ed67a808a3e39fd381f168825d65ff5/src/fast/utils.py#L360)."
      ]
    },
    {
      "cell_type": "code",
      "execution_count": 41,
      "metadata": {
        "colab": {
          "base_uri": "https://localhost:8080/"
        },
        "id": "sQAWLfN_hUbm",
        "outputId": "96c95c7f-29ab-4b08-f57c-c3145cafe27c"
      },
      "outputs": [
        {
          "output_type": "execute_result",
          "data": {
            "text/plain": [
              "torch.Size([9, 676])"
            ]
          },
          "metadata": {},
          "execution_count": 41
        }
      ],
      "source": [
        "inp = im3[None,None,:,:].float()\n",
        "inp_unf = F.unfold(inp, (3,3))[0]\n",
        "inp_unf.shape"
      ]
    },
    {
      "cell_type": "code",
      "source": [
        "inp.shape"
      ],
      "metadata": {
        "colab": {
          "base_uri": "https://localhost:8080/"
        },
        "id": "rX3FAZVt-fR4",
        "outputId": "0ed256ba-e0c3-4d70-eb44-b1733b72ac72"
      },
      "execution_count": 42,
      "outputs": [
        {
          "output_type": "execute_result",
          "data": {
            "text/plain": [
              "torch.Size([1, 1, 28, 28])"
            ]
          },
          "metadata": {},
          "execution_count": 42
        }
      ]
    },
    {
      "cell_type": "code",
      "source": [
        "im3.shape"
      ],
      "metadata": {
        "colab": {
          "base_uri": "https://localhost:8080/"
        },
        "id": "CweZcZ9n1Diu",
        "outputId": "c0e0cce4-9e65-4554-fc35-b7822672f757"
      },
      "execution_count": 43,
      "outputs": [
        {
          "output_type": "execute_result",
          "data": {
            "text/plain": [
              "torch.Size([28, 28])"
            ]
          },
          "metadata": {},
          "execution_count": 43
        }
      ]
    },
    {
      "cell_type": "code",
      "source": [
        "left_edge.shape"
      ],
      "metadata": {
        "colab": {
          "base_uri": "https://localhost:8080/"
        },
        "id": "TbbVrsoT34V0",
        "outputId": "a8814625-ac47-41c7-b24f-3daf3e2c4c4b"
      },
      "execution_count": 44,
      "outputs": [
        {
          "output_type": "execute_result",
          "data": {
            "text/plain": [
              "torch.Size([3, 3])"
            ]
          },
          "metadata": {},
          "execution_count": 44
        }
      ]
    },
    {
      "cell_type": "code",
      "execution_count": 45,
      "metadata": {
        "colab": {
          "base_uri": "https://localhost:8080/"
        },
        "id": "iBkSdFfehUbm",
        "outputId": "d1a8a26d-87f5-44a0-acf7-c28492db5a03"
      },
      "outputs": [
        {
          "output_type": "execute_result",
          "data": {
            "text/plain": [
              "torch.Size([9])"
            ]
          },
          "metadata": {},
          "execution_count": 45
        }
      ],
      "source": [
        "w = left_edge.view(-1)\n",
        "w.shape"
      ]
    },
    {
      "cell_type": "code",
      "execution_count": 46,
      "metadata": {
        "colab": {
          "base_uri": "https://localhost:8080/"
        },
        "id": "k1nNXVhthUbm",
        "outputId": "36bf9184-7b58-4ee5-f691-5fb37c63d541"
      },
      "outputs": [
        {
          "output_type": "execute_result",
          "data": {
            "text/plain": [
              "torch.Size([676])"
            ]
          },
          "metadata": {},
          "execution_count": 46
        }
      ],
      "source": [
        "out_unf = w@inp_unf\n",
        "out_unf.shape"
      ]
    },
    {
      "cell_type": "code",
      "source": [
        "show_image(im3)"
      ],
      "metadata": {
        "colab": {
          "base_uri": "https://localhost:8080/",
          "height": 150
        },
        "id": "m9l_lFBF4-__",
        "outputId": "4bb8e7fd-55c0-4e35-98a5-c990e6f4dbc4"
      },
      "execution_count": 47,
      "outputs": [
        {
          "output_type": "execute_result",
          "data": {
            "text/plain": [
              "<Axes: >"
            ]
          },
          "metadata": {},
          "execution_count": 47
        },
        {
          "output_type": "display_data",
          "data": {
            "text/plain": [
              "<Figure size 192x144 with 1 Axes>"
            ],
            "image/png": "[encoded data removed]"
          },
          "metadata": {}
        }
      ]
    },
    {
      "cell_type": "code",
      "execution_count": 48,
      "metadata": {
        "colab": {
          "base_uri": "https://localhost:8080/",
          "height": 133
        },
        "id": "mFqmVAAqhUbn",
        "outputId": "37046318-e07c-481f-ec00-ca04e2621ae7"
      },
      "outputs": [
        {
          "output_type": "display_data",
          "data": {
            "text/plain": [
              "<Figure size 192x144 with 1 Axes>"
            ],
            "image/png": "[encoded data removed]"
          },
          "metadata": {}
        }
      ],
      "source": [
        "out = out_unf.view(26,26)\n",
        "show_image(out);"
      ]
    },
    {
      "cell_type": "code",
      "execution_count": 49,
      "metadata": {
        "colab": {
          "base_uri": "https://localhost:8080/"
        },
        "id": "cO3TWKabhUbn",
        "outputId": "b3a55726-dea4-443b-9c3d-237be797356c"
      },
      "outputs": [
        {
          "output_type": "stream",
          "name": "stdout",
          "text": [
            "23.3 ms ± 9.12 ms per loop (mean ± std. dev. of 7 runs, 1 loop each)\n"
          ]
        }
      ],
      "source": [
        "%timeit -n 1 tensor([[apply_kernel(i,j,left_edge) for j in rng] for i in rng]);"
      ]
    },
    {
      "cell_type": "code",
      "execution_count": 50,
      "metadata": {
        "colab": {
          "base_uri": "https://localhost:8080/"
        },
        "id": "uXlburS0hUbn",
        "outputId": "e2f606c7-89f0-4b2a-e64c-057393dda2d3"
      },
      "outputs": [
        {
          "output_type": "stream",
          "name": "stdout",
          "text": [
            "90.4 µs ± 18.4 µs per loop (mean ± std. dev. of 7 runs, 100 loops each)\n"
          ]
        }
      ],
      "source": [
        "%timeit -n 100 (w@F.unfold(inp, (3,3))[0]).view(26,26);"
      ]
    },
    {
      "cell_type": "code",
      "execution_count": 51,
      "metadata": {
        "colab": {
          "base_uri": "https://localhost:8080/"
        },
        "id": "fPlF7tFXhUbn",
        "outputId": "2d9a886e-e105-44d9-f848-0c0616a1d880"
      },
      "outputs": [
        {
          "output_type": "stream",
          "name": "stdout",
          "text": [
            "37.5 µs ± 18.4 µs per loop (mean ± std. dev. of 7 runs, 100 loops each)\n"
          ]
        }
      ],
      "source": [
        "%timeit -n 100 F.conv2d(inp, left_edge[None,None])"
      ]
    },
    {
      "cell_type": "code",
      "execution_count": 52,
      "metadata": {
        "id": "unpuCXFMhUbo"
      },
      "outputs": [],
      "source": [
        "diag1_edge = tensor([[ 0,-1, 1],\n",
        "                     [-1, 1, 0],\n",
        "                     [ 1, 0, 0]]).float()"
      ]
    },
    {
      "cell_type": "code",
      "execution_count": 53,
      "metadata": {
        "colab": {
          "base_uri": "https://localhost:8080/",
          "height": 133
        },
        "id": "qWaSDI4MhUbo",
        "outputId": "1061d035-d19f-4d32-bac5-a3691400d4e6"
      },
      "outputs": [
        {
          "output_type": "display_data",
          "data": {
            "text/plain": [
              "<Figure size 192x144 with 1 Axes>"
            ],
            "image/png": "[encoded data removed]"
          },
          "metadata": {}
        }
      ],
      "source": [
        "show_image(diag1_edge, noframe=False);"
      ]
    },
    {
      "cell_type": "code",
      "execution_count": 54,
      "metadata": {
        "id": "FPchePfOhUbp"
      },
      "outputs": [],
      "source": [
        "diag2_edge = tensor([[ 1,-1, 0],\n",
        "                     [ 0, 1,-1],\n",
        "                     [ 0, 0, 1]]).float()"
      ]
    },
    {
      "cell_type": "code",
      "execution_count": 55,
      "metadata": {
        "colab": {
          "base_uri": "https://localhost:8080/",
          "height": 133
        },
        "id": "ngXU2QwqhUbp",
        "outputId": "bc16aae5-6649-4486-b18f-097f2a05bf7c"
      },
      "outputs": [
        {
          "output_type": "display_data",
          "data": {
            "text/plain": [
              "<Figure size 192x144 with 1 Axes>"
            ],
            "image/png": "[encoded data removed]"
          },
          "metadata": {}
        }
      ],
      "source": [
        "show_image(diag2_edge, noframe=False);"
      ]
    },
    {
      "cell_type": "code",
      "source": [
        "x_imgs.shape"
      ],
      "metadata": {
        "colab": {
          "base_uri": "https://localhost:8080/"
        },
        "id": "Hk_6uWn07Izl",
        "outputId": "8c8b1ecd-3cc8-4380-a066-2379f0b0202a"
      },
      "execution_count": 56,
      "outputs": [
        {
          "output_type": "execute_result",
          "data": {
            "text/plain": [
              "torch.Size([50000, 28, 28])"
            ]
          },
          "metadata": {},
          "execution_count": 56
        }
      ]
    },
    {
      "cell_type": "code",
      "execution_count": 57,
      "metadata": {
        "colab": {
          "base_uri": "https://localhost:8080/"
        },
        "id": "egIAsBdShUbp",
        "outputId": "988dfc85-78e2-4dae-aba1-36948d4de592"
      },
      "outputs": [
        {
          "output_type": "execute_result",
          "data": {
            "text/plain": [
              "torch.Size([16, 1, 28, 28])"
            ]
          },
          "metadata": {},
          "execution_count": 57
        }
      ],
      "source": [
        "xb = x_imgs[:16][:,None]\n",
        "xb.shape"
      ]
    },
    {
      "cell_type": "code",
      "source": [
        "edge_kernels = torch.stack([left_edge, top_edge, diag1_edge, diag2_edge])\n",
        "edge_kernels.shape"
      ],
      "metadata": {
        "id": "pRPiThNt264p",
        "outputId": "0d4c6cc2-8fca-4de2-e9df-5128d55c0db8",
        "colab": {
          "base_uri": "https://localhost:8080/"
        }
      },
      "execution_count": 58,
      "outputs": [
        {
          "output_type": "execute_result",
          "data": {
            "text/plain": [
              "torch.Size([4, 3, 3])"
            ]
          },
          "metadata": {},
          "execution_count": 58
        }
      ]
    },
    {
      "cell_type": "code",
      "execution_count": 59,
      "metadata": {
        "colab": {
          "base_uri": "https://localhost:8080/"
        },
        "id": "yLZFUOckhUbp",
        "outputId": "84f42399-a1d2-4f3e-c2ca-cd5174e63f23"
      },
      "outputs": [
        {
          "output_type": "execute_result",
          "data": {
            "text/plain": [
              "torch.Size([4, 1, 3, 3])"
            ]
          },
          "metadata": {},
          "execution_count": 59
        }
      ],
      "source": [
        "edge_kernels = torch.stack([left_edge, top_edge, diag1_edge, diag2_edge])[:,None]\n",
        "edge_kernels.shape"
      ]
    },
    {
      "cell_type": "code",
      "execution_count": 60,
      "metadata": {
        "colab": {
          "base_uri": "https://localhost:8080/"
        },
        "id": "CCJrQFE2hUbq",
        "outputId": "f9c93839-b5bd-4cae-c32d-5c668b9dd8fa"
      },
      "outputs": [
        {
          "output_type": "execute_result",
          "data": {
            "text/plain": [
              "(torch.Size([16, 4, 26, 26]), torch.Size([26, 26]))"
            ]
          },
          "metadata": {},
          "execution_count": 60
        }
      ],
      "source": [
        "batch_features = F.conv2d(xb, edge_kernels)\n",
        "batch_features.shape, batch_features[1, 0].shape"
      ]
    },
    {
      "cell_type": "code",
      "source": [
        "F.conv2d(xb, left_edge[None,None]).shape"
      ],
      "metadata": {
        "colab": {
          "base_uri": "https://localhost:8080/"
        },
        "id": "_8Ltbsfa_Dol",
        "outputId": "0f3b85ed-be77-4ff7-dbff-3d30dae51003"
      },
      "execution_count": 61,
      "outputs": [
        {
          "output_type": "execute_result",
          "data": {
            "text/plain": [
              "torch.Size([16, 1, 26, 26])"
            ]
          },
          "metadata": {},
          "execution_count": 61
        }
      ]
    },
    {
      "cell_type": "markdown",
      "metadata": {
        "id": "3O2T-z-whUbq"
      },
      "source": [
        "The output shape shows we gave 64 images in the mini-batch, 4 kernels, and 26×26 edge maps (we started with 28×28 images, but lost one pixel from each side as discussed earlier). We can see we get the same results as when we did this manually:"
      ]
    },
    {
      "cell_type": "code",
      "source": [
        "xb.shape, xb[1,0].shape"
      ],
      "metadata": {
        "colab": {
          "base_uri": "https://localhost:8080/"
        },
        "id": "f9piD074CJ8P",
        "outputId": "b1ff4b90-161b-4490-8482-3e8e298d4629"
      },
      "execution_count": 62,
      "outputs": [
        {
          "output_type": "execute_result",
          "data": {
            "text/plain": [
              "(torch.Size([16, 1, 28, 28]), torch.Size([28, 28]))"
            ]
          },
          "metadata": {},
          "execution_count": 62
        }
      ]
    },
    {
      "cell_type": "code",
      "execution_count": 63,
      "metadata": {
        "colab": {
          "base_uri": "https://localhost:8080/",
          "height": 133
        },
        "id": "FI-8Bw-fhUbq",
        "outputId": "a71b2c7a-c0e2-4b5f-d3f5-96627f948f38"
      },
      "outputs": [
        {
          "output_type": "display_data",
          "data": {
            "text/plain": [
              "<Figure size 192x144 with 1 Axes>"
            ],
            "image/png": "[encoded data removed]"
          },
          "metadata": {}
        }
      ],
      "source": [
        "img0 = xb[1,0]\n",
        "show_image(img0);"
      ]
    },
    {
      "cell_type": "code",
      "execution_count": 64,
      "metadata": {
        "colab": {
          "base_uri": "https://localhost:8080/",
          "height": 161
        },
        "id": "ArPskYzGhUbq",
        "outputId": "37a743b8-1b12-4a74-fe57-4dfe2387d9cd"
      },
      "outputs": [
        {
          "output_type": "display_data",
          "data": {
            "text/plain": [
              "<Figure size 180x180 with 4 Axes>"
            ],
            "image/png": "[encoded data removed]"
          },
          "metadata": {}
        }
      ],
      "source": [
        "show_images([batch_features[1,i] for i in range(4)])"
      ]
    },
    {
      "cell_type": "markdown",
      "metadata": {
        "id": "l1OhpE09hUbr"
      },
      "source": [
        "### Strides and Padding"
      ]
    },
    {
      "cell_type": "markdown",
      "metadata": {
        "id": "-wiNUrgthUbr"
      },
      "source": [
        "With appropriate padding, we can ensure that the output activation map is the same size as the original image."
      ]
    },
    {
      "cell_type": "markdown",
      "metadata": {
        "id": "Ezbq-HnFhUbr"
      },
      "source": [
        "<img src=\"https://github.com/fastai/course22p2/blob/master/nbs/images/chapter9_padconv.svg?raw=1\" id=\"pad_conv\" caption=\"A convolution with padding\" alt=\"A convolution with padding\" width=\"600\">"
      ]
    },
    {
      "cell_type": "markdown",
      "metadata": {
        "id": "ERjLkClhhUbr"
      },
      "source": [
        "With a 5×5 input, 4×4 kernel, and 2 pixels of padding, we end up with a 6×6 activation map."
      ]
    },
    {
      "cell_type": "markdown",
      "metadata": {
        "id": "jKCNhcg5hUbs"
      },
      "source": [
        "<img alt=\"A 4×4 kernel with 5×5 input and 2 pixels of padding\" width=\"783\" caption=\"A 4×4 kernel with 5×5 input and 2 pixels of padding (courtesy of Vincent Dumoulin and Francesco Visin)\" id=\"four_by_five_conv\" src=\"https://github.com/fastai/course22p2/blob/master/nbs/images/att_00029.png?raw=1\">"
      ]
    },
    {
      "cell_type": "markdown",
      "metadata": {
        "id": "tR-PXRuChUbs"
      },
      "source": [
        "If we add a kernel of size `ks` by `ks` (with `ks` an odd number), the necessary padding on each side to keep the same shape is `ks//2`.\n",
        "\n",
        "We could move over two pixels after each kernel application. This is known as a *stride-2* convolution."
      ]
    },
    {
      "cell_type": "markdown",
      "metadata": {
        "id": "pr3Cxbo8hUbs"
      },
      "source": [
        "<img alt=\"A 3×3 kernel with 5×5 input, stride-2 convolution, and 1 pixel of padding\" width=\"774\" caption=\"A 3×3 kernel with 5×5 input, stride-2 convolution, and 1 pixel of padding (courtesy of Vincent Dumoulin and Francesco Visin)\" id=\"three_by_five_conv\" src=\"https://github.com/fastai/course22p2/blob/master/nbs/images/att_00030.png?raw=1\">"
      ]
    },
    {
      "cell_type": "markdown",
      "metadata": {
        "id": "xDwl8klUhUbs"
      },
      "source": [
        "## Creating the CNN"
      ]
    },
    {
      "cell_type": "code",
      "execution_count": 65,
      "metadata": {
        "id": "795hbSn-hUbs"
      },
      "outputs": [],
      "source": [
        "n,m = x_train.shape\n",
        "c = y_train.max()+1\n",
        "nh = 50"
      ]
    },
    {
      "cell_type": "code",
      "execution_count": 66,
      "metadata": {
        "id": "NrN2b8A0hUbs"
      },
      "outputs": [],
      "source": [
        "model = nn.Sequential(nn.Linear(m,nh), nn.ReLU(), nn.Linear(nh,10))"
      ]
    },
    {
      "cell_type": "code",
      "source": [
        "model(x_train).shape"
      ],
      "metadata": {
        "colab": {
          "base_uri": "https://localhost:8080/"
        },
        "id": "5GakFtdMUMCn",
        "outputId": "90403cde-d354-47fa-801a-af746d1e15d7"
      },
      "execution_count": 67,
      "outputs": [
        {
          "output_type": "execute_result",
          "data": {
            "text/plain": [
              "torch.Size([50000, 10])"
            ]
          },
          "metadata": {},
          "execution_count": 67
        }
      ]
    },
    {
      "cell_type": "code",
      "execution_count": 68,
      "metadata": {
        "id": "SOQlMh0ThUbt"
      },
      "outputs": [],
      "source": [
        "broken_cnn = nn.Sequential(\n",
        "    nn.Conv2d(1,4, kernel_size=3, padding=0),\n",
        "    nn.ReLU(),\n",
        "    # nn.Conv2d(30,10, kernel_size=3, padding=0)\n",
        ")"
      ]
    },
    {
      "cell_type": "code",
      "execution_count": 69,
      "metadata": {
        "colab": {
          "base_uri": "https://localhost:8080/"
        },
        "id": "mgHaSgZEhUbt",
        "outputId": "cdcda31a-e5fd-4b54-a25b-4e5742618c3e"
      },
      "outputs": [
        {
          "output_type": "execute_result",
          "data": {
            "text/plain": [
              "torch.Size([16, 4, 26, 26])"
            ]
          },
          "metadata": {},
          "execution_count": 69
        }
      ],
      "source": [
        "broken_cnn(xb).shape"
      ]
    },
    {
      "cell_type": "code",
      "execution_count": 70,
      "metadata": {
        "id": "Tq3Hisn2hUbt"
      },
      "outputs": [],
      "source": [
        "#|export\n",
        "def conv(ni, nf, ks=3, stride=2, act=True):\n",
        "    res = nn.Conv2d(ni, nf, stride=stride, kernel_size=ks, padding=ks//2)\n",
        "    if act: res = nn.Sequential(res, nn.ReLU())\n",
        "    return res"
      ]
    },
    {
      "cell_type": "markdown",
      "metadata": {
        "id": "343FOwdAhUbt"
      },
      "source": [
        "Refactoring parts of your neural networks like this makes it much less likely you'll get errors due to inconsistencies in your architectures, and makes it more obvious to the reader which parts of your layers are actually changing."
      ]
    },
    {
      "cell_type": "code",
      "execution_count": 155,
      "metadata": {
        "id": "ao7V-zWUhUbu"
      },
      "outputs": [],
      "source": [
        "simple_cnn = nn.Sequential(\n",
        "    conv(1 ,4),            #14x14\n",
        "    conv(4 ,8),            #7x7\n",
        "    conv(8 ,16),           #4x4\n",
        "    conv(16,16),           #2x2\n",
        "    conv(16,10, act=False), #1x1\n",
        "    nn.Flatten(),\n",
        ")"
      ]
    },
    {
      "cell_type": "code",
      "source": [
        "# simple_cnn = nn.Sequential(\n",
        "#     conv(1 ,4),            #14x14\n",
        "#     conv(4 ,8),            #7x7\n",
        "#     conv(8 ,1),           #4x4\n",
        "#     nn.Flatten())"
      ],
      "metadata": {
        "id": "E9J3GZI3tHmE"
      },
      "execution_count": 129,
      "outputs": []
    },
    {
      "cell_type": "code",
      "source": [
        "# simple_cnn = nn.Sequential(\n",
        "#     nn.Conv2d(1, 4, stride=2, kernel_size=3, padding=3//2),            #14x14\n",
        "#     nn.Conv2d(4, 1, stride=2, kernel_size=3, padding=3//2), #7x7\n",
        "#     # conv(4 ,8),            #7x7\n",
        "#     # conv(8 ,1),           #4x4\n",
        "#     nn.Flatten())"
      ],
      "metadata": {
        "id": "KX2kKvSt0AU-"
      },
      "execution_count": null,
      "outputs": []
    },
    {
      "cell_type": "code",
      "execution_count": 146,
      "metadata": {
        "colab": {
          "base_uri": "https://localhost:8080/"
        },
        "id": "Yv90-N2xhUbu",
        "outputId": "80b6888b-d47d-40e1-a591-a1174fa608af"
      },
      "outputs": [
        {
          "output_type": "execute_result",
          "data": {
            "text/plain": [
              "torch.Size([16, 4])"
            ]
          },
          "metadata": {},
          "execution_count": 146
        }
      ],
      "source": [
        "simple_cnn(xb).shape"
      ]
    },
    {
      "cell_type": "code",
      "source": [
        "from math import sqrt\n",
        "p = simple_cnn(xb)\n",
        "sq = int(sqrt(p.shape[1]))\n",
        "x_reshaped = p[:16].view(-1, sq, sq)\n",
        "show_images(x_reshaped, imsize=5)\n",
        "print(x_reshaped.shape, sq)"
      ],
      "metadata": {
        "id": "3AjIDJk-tSY2",
        "outputId": "2d324f53-cf47-4b09-9ed1-efa0f36077ea",
        "colab": {
          "base_uri": "https://localhost:8080/",
          "height": 502
        }
      },
      "execution_count": 160,
      "outputs": [
        {
          "output_type": "stream",
          "name": "stdout",
          "text": [
            "torch.Size([16, 4, 4]) 4\n"
          ]
        },
        {
          "output_type": "display_data",
          "data": {
            "text/plain": [
              "<Figure size 600x600 with 16 Axes>"
            ],
            "image/png": "[encoded data removed]"
          },
          "metadata": {}
        }
      ]
    },
    {
      "cell_type": "code",
      "source": [
        "show_images(xb[:16], imsize=5)"
      ],
      "metadata": {
        "id": "Dp_SR-VsvirR",
        "outputId": "9bc73a53-6ccb-4146-d148-f7dd869c7442",
        "colab": {
          "base_uri": "https://localhost:8080/",
          "height": 485
        }
      },
      "execution_count": 81,
      "outputs": [
        {
          "output_type": "display_data",
          "data": {
            "text/plain": [
              "<Figure size 600x600 with 16 Axes>"
            ],
            "image/png": "[encoded data removed]"
          },
          "metadata": {}
        }
      ]
    },
    {
      "cell_type": "code",
      "execution_count": 156,
      "metadata": {
        "id": "8ie4ZY3IhUbu"
      },
      "outputs": [],
      "source": [
        "x_imgs = x_train.view(-1,1,28,28)\n",
        "xv_imgs = x_valid.view(-1,1,28,28)\n",
        "train_ds,valid_ds = Dataset(x_imgs, y_train),Dataset(xv_imgs, y_valid)"
      ]
    },
    {
      "cell_type": "code",
      "execution_count": 157,
      "metadata": {
        "id": "Z3_SAuMFhUbu"
      },
      "outputs": [],
      "source": [
        "#|export\n",
        "def_device = 'mps' if torch.backends.mps.is_available() else 'cuda' if torch.cuda.is_available() else 'cpu'\n",
        "\n",
        "def to_device(x, device=def_device):\n",
        "    if isinstance(x, torch.Tensor): return x.to(device)\n",
        "    if isinstance(x, Mapping): return {k:v.to(device) for k,v in x.items()}\n",
        "    return type(x)(to_device(o, device) for o in x)\n",
        "\n",
        "def collate_device(b):\n",
        "  return to_device(default_collate(b))"
      ]
    },
    {
      "cell_type": "code",
      "execution_count": 158,
      "metadata": {
        "id": "npOTpZMwhUbv"
      },
      "outputs": [],
      "source": [
        "from torch import optim\n",
        "\n",
        "bs = 256\n",
        "lr = 0.4\n",
        "train_dl,valid_dl = get_dls(train_ds, valid_ds, bs, collate_fn=collate_device)\n",
        "opt = optim.SGD(simple_cnn.parameters(), lr=lr)"
      ]
    },
    {
      "cell_type": "code",
      "source": [],
      "metadata": {
        "id": "EdnJ-vMH78yi"
      },
      "execution_count": 158,
      "outputs": []
    },
    {
      "cell_type": "code",
      "execution_count": 159,
      "metadata": {
        "colab": {
          "base_uri": "https://localhost:8080/"
        },
        "id": "K8pu-FPZhUbv",
        "outputId": "5fd32041-c84f-4558-8de9-97c8f2daf8f8"
      },
      "outputs": [
        {
          "output_type": "stream",
          "name": "stdout",
          "text": [
            "0 2.555299458694458 0.11779999995231628\n",
            "1 2.00724725894928 0.31780000019073484\n",
            "2 2.038794971847534 0.34519999976158144\n",
            "3 1.7986510559082032 0.3823000000953674\n",
            "4 1.7888768257141112 0.3818000003814697\n"
          ]
        }
      ],
      "source": [
        "loss,acc = fit(5, simple_cnn.to(def_device), F.cross_entropy, opt, train_dl, valid_dl)"
      ]
    },
    {
      "cell_type": "code",
      "source": [
        "from itertools import *\n",
        "\n",
        "test = iter(simple_cnn.parameters())\n",
        "simple_cnn.parameters\n",
        "next(test)"
      ],
      "metadata": {
        "colab": {
          "base_uri": "https://localhost:8080/"
        },
        "id": "Gf_UWFt9Fd8Z",
        "outputId": "4bca87c5-c083-4c44-e9cc-5c3ff03a030f"
      },
      "execution_count": 106,
      "outputs": [
        {
          "output_type": "execute_result",
          "data": {
            "text/plain": [
              "Parameter containing:\n",
              "tensor([[[[-2.8932, -1.4409, -2.3149],\n",
              "          [-1.8300, -0.4639, -1.7182],\n",
              "          [-2.1021, -1.3194, -2.7920]]]], requires_grad=True)"
            ]
          },
          "metadata": {},
          "execution_count": 106
        }
      ]
    },
    {
      "cell_type": "code",
      "source": [
        "next(test)"
      ],
      "metadata": {
        "colab": {
          "base_uri": "https://localhost:8080/"
        },
        "id": "3U4poe4tGSSG",
        "outputId": "6d7b2114-eb19-43ad-c719-ab825a7babfd"
      },
      "execution_count": 107,
      "outputs": [
        {
          "output_type": "execute_result",
          "data": {
            "text/plain": [
              "Parameter containing:\n",
              "tensor([0.0934], requires_grad=True)"
            ]
          },
          "metadata": {},
          "execution_count": 107
        }
      ]
    },
    {
      "cell_type": "code",
      "execution_count": 108,
      "metadata": {
        "colab": {
          "base_uri": "https://localhost:8080/"
        },
        "id": "fVFaWKY2hUbv",
        "outputId": "346128d3-1607-4462-925f-0e5040ee659f"
      },
      "outputs": [
        {
          "output_type": "stream",
          "name": "stdout",
          "text": [
            "0 4.944832300567627 0.09910000005960465\n",
            "1 4.944260856628418 0.09910000005960465\n",
            "2 4.943725435638428 0.09910000005960465\n",
            "3 4.9432195358276365 0.09910000005960465\n",
            "4 4.942742125701904 0.09910000005960465\n"
          ]
        }
      ],
      "source": [
        "opt = optim.SGD(simple_cnn.parameters(), lr=lr/4)\n",
        "loss,acc = fit(5, simple_cnn.to(def_device), F.cross_entropy, opt, train_dl, valid_dl)"
      ]
    },
    {
      "cell_type": "markdown",
      "metadata": {
        "id": "Bb-m5SMehUbw"
      },
      "source": [
        "### Understanding Convolution Arithmetic"
      ]
    },
    {
      "cell_type": "markdown",
      "metadata": {
        "id": "tbePVqz8hUbw"
      },
      "source": [
        "In an input of size `64x1x28x28` the axes are `batch,channel,height,width`. This is often represented as `NCHW` (where `N` refers to batch size). Tensorflow, on the other hand, uses `NHWC` axis order (aka \"channels-last\"). Channels-last is faster for many models, so recently it's become more common to see this as an option in PyTorch too.\n",
        "\n",
        "We have 1 input channel, 4 output channels, and a 3×3 kernel."
      ]
    },
    {
      "cell_type": "code",
      "execution_count": 72,
      "metadata": {
        "id": "DQN297YBhUbx",
        "outputId": "a820938e-3832-4be0-b28e-7088e2a950ea",
        "colab": {
          "base_uri": "https://localhost:8080/"
        }
      },
      "outputs": [
        {
          "output_type": "execute_result",
          "data": {
            "text/plain": [
              "Conv2d(1, 4, kernel_size=(3, 3), stride=(2, 2), padding=(1, 1))"
            ]
          },
          "metadata": {},
          "execution_count": 72
        }
      ],
      "source": [
        "simple_cnn[0][0]"
      ]
    },
    {
      "cell_type": "code",
      "execution_count": 73,
      "metadata": {
        "id": "0pSC98wAhUbx",
        "outputId": "2863eaae-72d6-455f-e45f-3e3dca64fa80",
        "colab": {
          "base_uri": "https://localhost:8080/"
        }
      },
      "outputs": [
        {
          "output_type": "execute_result",
          "data": {
            "text/plain": [
              "torch.Size([4, 1, 3, 3])"
            ]
          },
          "metadata": {},
          "execution_count": 73
        }
      ],
      "source": [
        "conv1 = simple_cnn[0][0]\n",
        "conv1.weight.shape"
      ]
    },
    {
      "cell_type": "code",
      "execution_count": null,
      "metadata": {
        "id": "4Q-Fhc8rhUbx",
        "outputId": "3014157d-2bc9-4b0f-9360-b1b1766cd83f",
        "colab": {
          "base_uri": "https://localhost:8080/"
        }
      },
      "outputs": [
        {
          "output_type": "execute_result",
          "data": {
            "text/plain": [
              "torch.Size([4])"
            ]
          },
          "metadata": {},
          "execution_count": 82
        }
      ],
      "source": [
        "conv1.bias.shape"
      ]
    },
    {
      "cell_type": "markdown",
      "metadata": {
        "id": "0YRDBk96hUby"
      },
      "source": [
        "The *receptive field* is the area of an image that is involved in the calculation of a layer. *conv-example.xlsx* shows the calculation of two stride-2 convolutional layers using an MNIST digit. Here's what we see if we click on one of the cells in the *conv2* section, which shows the output of the second convolutional layer, and click *trace precedents*."
      ]
    },
    {
      "cell_type": "markdown",
      "metadata": {
        "id": "aCXKiEJqhUby"
      },
      "source": [
        "<img alt=\"Immediate precedents of conv2 layer\" width=\"308\" caption=\"Immediate precedents of Conv2 layer\" id=\"preced1\" src=\"https://github.com/fastai/course22p2/blob/master/nbs/images/att_00068.png?raw=1\">"
      ]
    },
    {
      "cell_type": "markdown",
      "metadata": {
        "id": "FJHmxnWxhUbz"
      },
      "source": [
        "The blue highlighted cells are its *precedents*—that is, the cells used to calculate its value. These cells are the corresponding 3×3 area of cells from the input layer (on the left), and the cells from the filter (on the right). Click *trace precedents* again:"
      ]
    },
    {
      "cell_type": "markdown",
      "metadata": {
        "id": "vhKjSlHshUbz"
      },
      "source": [
        "<img alt=\"Secondary precedents of conv2 layer\" width=\"601\" caption=\"Secondary precedents of Conv2 layer\" id=\"preced2\" src=\"https://github.com/fastai/course22p2/blob/master/nbs/images/att_00069.png?raw=1\">"
      ]
    },
    {
      "cell_type": "markdown",
      "metadata": {
        "id": "CEnH6HgThUb0"
      },
      "source": [
        "In this example, we have just two convolutional layers. We can see that a 7×7 area of cells in the input layer is used to calculate the single green cell in the Conv2 layer. This is the *receptive field*\n",
        "\n",
        "The deeper we are in the network (specifically, the more stride-2 convs we have before a layer), the larger the receptive field for an activation in that layer."
      ]
    },
    {
      "cell_type": "markdown",
      "metadata": {
        "id": "-FEyAA07hUb0"
      },
      "source": [
        "## Color Images"
      ]
    },
    {
      "cell_type": "markdown",
      "metadata": {
        "id": "CGL7eA9NhUb0"
      },
      "source": [
        "A colour picture is a rank-3 tensor:"
      ]
    },
    {
      "cell_type": "code",
      "execution_count": null,
      "metadata": {
        "id": "VH-JwoKGhUb1"
      },
      "outputs": [],
      "source": [
        "from torchvision.io import read_image"
      ]
    },
    {
      "cell_type": "code",
      "execution_count": null,
      "metadata": {
        "id": "wE6JYZixhUb1",
        "outputId": "f72a8f8a-a5b8-43ba-df70-e191f71f8cb5"
      },
      "outputs": [
        {
          "data": {
            "text/plain": [
              "torch.Size([3, 1000, 846])"
            ]
          },
          "execution_count": null,
          "metadata": {},
          "output_type": "execute_result"
        }
      ],
      "source": [
        "im = read_image('images/grizzly.jpg')\n",
        "im.shape"
      ]
    },
    {
      "cell_type": "code",
      "execution_count": null,
      "metadata": {
        "id": "GVj8DQ60hUb1",
        "outputId": "a8c6cf4a-65b5-4100-a4dd-c2108e2e4567"
      },
      "outputs": [
        {
          "data": {
            "image/png": "[encoded data removed]",
            "text/plain": [
              "<Figure size 432x288 with 1 Axes>"
            ]
          },
          "metadata": {},
          "output_type": "display_data"
        }
      ],
      "source": [
        "show_image(im.permute(1,2,0));"
      ]
    },
    {
      "cell_type": "code",
      "execution_count": null,
      "metadata": {
        "id": "7p0a_G9lhUb2",
        "outputId": "09ec2fd6-dfa2-4f1b-9fcb-19f6522f95c8"
      },
      "outputs": [
        {
          "data": {
            "image/png": "[encoded data removed]",
            "text/plain": [
              "<Figure size 432x288 with 3 Axes>"
            ]
          },
          "metadata": {},
          "output_type": "display_data"
        }
      ],
      "source": [
        "_,axs = plt.subplots(1,3)\n",
        "for bear,ax,color in zip(im,axs,('Reds','Greens','Blues')): show_image(255-bear, ax=ax, cmap=color)"
      ]
    },
    {
      "cell_type": "markdown",
      "metadata": {
        "id": "Uj8ektVThUb2"
      },
      "source": [
        "<img src=\"https://github.com/fastai/course22p2/blob/master/nbs/images/chapter9_rgbconv.svg?raw=1\" id=\"rgbconv\" caption=\"Convolution over an RGB image\" alt=\"Convolution over an RGB image\" width=\"550\">"
      ]
    },
    {
      "cell_type": "markdown",
      "metadata": {
        "id": "bRgu5KpUhUb2"
      },
      "source": [
        "These are then all added together, to produce a single number, for each grid location, for each output feature."
      ]
    },
    {
      "cell_type": "markdown",
      "metadata": {
        "id": "Y1Te-xvFhUb2"
      },
      "source": [
        "<img src=\"https://github.com/fastai/course22p2/blob/master/nbs/images/chapter9_rgb_conv_stack.svg?raw=1\" id=\"rgbconv2\" caption=\"Adding the RGB filters\" alt=\"Adding the RGB filters\" width=\"500\">"
      ]
    },
    {
      "cell_type": "markdown",
      "metadata": {
        "id": "Vqj1w_NWhUb2"
      },
      "source": [
        "We have `ch_out` filters like this, so in the end, the result of our convolutional layer will be a batch of images with `ch_out` channels."
      ]
    },
    {
      "cell_type": "markdown",
      "metadata": {
        "id": "U3XZMeknhUb3"
      },
      "source": [
        "## Export -"
      ]
    },
    {
      "cell_type": "code",
      "execution_count": null,
      "metadata": {
        "id": "yXh-lGw9hUb3"
      },
      "outputs": [],
      "source": [
        "import nbdev; nbdev.nbdev_export()"
      ]
    },
    {
      "cell_type": "code",
      "execution_count": null,
      "metadata": {
        "id": "U16VeIz_hUb3"
      },
      "outputs": [],
      "source": []
    }
  ],
  "metadata": {
    "jupytext": {
      "split_at_heading": true
    },
    "kernelspec": {
      "display_name": "Python 3 (ipykernel)",
      "language": "python",
      "name": "python3"
    },
    "colab": {
      "provenance": []
    }
  },
  "nbformat": 4,
  "nbformat_minor": 0
}