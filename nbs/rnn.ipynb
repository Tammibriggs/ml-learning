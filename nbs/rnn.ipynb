{
  "cells": [
    {
      "cell_type": "markdown",
      "metadata": {
        "id": "NxQ8s9PCwY0C"
      },
      "source": [
        "# RNNs\n",
        "\n",
        "*You can watch a [video](https://youtu.be/4wuIOcD1LLI) of this lesson if you prefer.*\n",
        "\n",
        "In the [last lesson](https://github.com/VikParuchuri/zero_to_gpt/blob/master/explanations/classification.ipynb), we learned how to use a neural network to perform classification.  This is one important piece of using a neural network to do NLP (natural language processing).\n",
        "\n",
        "In this lesson, we'll learn another important piece - how to use neural networks to take in sequences of input and make predictions.  A sequence of input can be a sentence made up of words, or a series of weather observations.\n",
        "\n",
        "Each element in a sequence has a position.  We can think of those positions as being steps in time.  Here is a sequence of temperatures:"
      ]
    },
    {
      "cell_type": "code",
      "source": [
        "import requests\n",
        "\n",
        "url = \"https://raw.githubusercontent.com/VikParuchuri/zero_to_gpt/master/data/clean_weather.csv\"\n",
        "response = requests.get(url)\n",
        "\n",
        "with open(\"clean_weather.csv\", \"wb\") as f:\n",
        "    f.write(response.content)"
      ],
      "metadata": {
        "id": "k2-5R6aKxOJK"
      },
      "execution_count": 1,
      "outputs": []
    },
    {
      "cell_type": "code",
      "execution_count": 2,
      "metadata": {
        "colab": {
          "base_uri": "https://localhost:8080/",
          "height": 398
        },
        "id": "Aax_m5jiwY0J",
        "outputId": "5804939d-f5f8-42fc-8561-57eb52079411"
      },
      "outputs": [
        {
          "output_type": "execute_result",
          "data": {
            "text/plain": [
              "1970-01-01    60.0\n",
              "1970-01-02    52.0\n",
              "1970-01-03    52.0\n",
              "1970-01-04    53.0\n",
              "1970-01-05    52.0\n",
              "1970-01-06    50.0\n",
              "1970-01-07    52.0\n",
              "1970-01-08    56.0\n",
              "1970-01-09    54.0\n",
              "1970-01-10    57.0\n",
              "Name: tmax, dtype: float64"
            ],
            "text/html": [
              "<div>\n",
              "<style scoped>\n",
              "    .dataframe tbody tr th:only-of-type {\n",
              "        vertical-align: middle;\n",
              "    }\n",
              "\n",
              "    .dataframe tbody tr th {\n",
              "        vertical-align: top;\n",
              "    }\n",
              "\n",
              "    .dataframe thead th {\n",
              "        text-align: right;\n",
              "    }\n",
              "</style>\n",
              "<table border=\"1\" class=\"dataframe\">\n",
              "  <thead>\n",
              "    <tr style=\"text-align: right;\">\n",
              "      <th></th>\n",
              "      <th>tmax</th>\n",
              "    </tr>\n",
              "  </thead>\n",
              "  <tbody>\n",
              "    <tr>\n",
              "      <th>1970-01-01</th>\n",
              "      <td>60.0</td>\n",
              "    </tr>\n",
              "    <tr>\n",
              "      <th>1970-01-02</th>\n",
              "      <td>52.0</td>\n",
              "    </tr>\n",
              "    <tr>\n",
              "      <th>1970-01-03</th>\n",
              "      <td>52.0</td>\n",
              "    </tr>\n",
              "    <tr>\n",
              "      <th>1970-01-04</th>\n",
              "      <td>53.0</td>\n",
              "    </tr>\n",
              "    <tr>\n",
              "      <th>1970-01-05</th>\n",
              "      <td>52.0</td>\n",
              "    </tr>\n",
              "    <tr>\n",
              "      <th>1970-01-06</th>\n",
              "      <td>50.0</td>\n",
              "    </tr>\n",
              "    <tr>\n",
              "      <th>1970-01-07</th>\n",
              "      <td>52.0</td>\n",
              "    </tr>\n",
              "    <tr>\n",
              "      <th>1970-01-08</th>\n",
              "      <td>56.0</td>\n",
              "    </tr>\n",
              "    <tr>\n",
              "      <th>1970-01-09</th>\n",
              "      <td>54.0</td>\n",
              "    </tr>\n",
              "    <tr>\n",
              "      <th>1970-01-10</th>\n",
              "      <td>57.0</td>\n",
              "    </tr>\n",
              "  </tbody>\n",
              "</table>\n",
              "</div><br><label><b>dtype:</b> float64</label>"
            ]
          },
          "metadata": {},
          "execution_count": 2
        }
      ],
      "source": [
        "import pandas as pd\n",
        "import numpy as np\n",
        "\n",
        "# Read in our data, and fill missing values\n",
        "data = pd.read_csv(\"clean_weather.csv\", index_col=0)\n",
        "data = data.ffill()\n",
        "\n",
        "# Display a sequence of temperatures\n",
        "data[\"tmax\"].head(10)"
      ]
    },
    {
      "cell_type": "markdown",
      "metadata": {
        "id": "fU2nihaWwY0P"
      },
      "source": [
        "The sequence has 10 elements.  The first sequence element (at time step 0) is `60`.  The second sequence element (at time step 1) is `52`, and so on.\n",
        "\n",
        "Let's say we want to predict the next element in the sequence (at time step `10`).  With a normal neural network, you have to treat each element in a sequence as a separate input feature, like this:"
      ]
    },
    {
      "cell_type": "code",
      "execution_count": 3,
      "metadata": {
        "colab": {
          "base_uri": "https://localhost:8080/"
        },
        "id": "CE_pM5vVwY0Q",
        "outputId": "0b67b426-1360-446a-c438-33bdfbe765fe"
      },
      "outputs": [
        {
          "output_type": "execute_result",
          "data": {
            "text/plain": [
              "array([[60., 52., 52., 53., 52., 50., 52., 56., 54., 57.]])"
            ]
          },
          "metadata": {},
          "execution_count": 3
        }
      ],
      "source": [
        "# Turn our sequence into a single row of data\n",
        "data[\"tmax\"].head(10).to_numpy()[np.newaxis,:]"
      ]
    },
    {
      "cell_type": "markdown",
      "metadata": {
        "id": "dkR_ZHedwY0R"
      },
      "source": [
        "We could feed the above sequence as a single training example into a neural network to predict the next temperature.  But what if we don't know the length of the sequence beforehand?  For example, what if we wanted the neural network to predict the next word that came after a prompt?\n",
        "\n",
        "We could have prompts with different lengths, like:\n",
        "\n",
        "- `Write me a song`\n",
        "- `Tell me a story about dinosaurs`\n",
        "- `Add 1 and 2`\n",
        "\n",
        "We want our network to be able to handle all of these inputs, even though they have different lengths.  One way to do this is to add extra zeros to the end of the sequence to make all of the sequences the same length.  Then our network will handle a fixed-sized input.\n",
        "\n",
        "But this introduces the issue that the neural network will have to learn parameters for each position separately.  For example, if we're passing in two weather observations of different lengths:"
      ]
    },
    {
      "cell_type": "code",
      "execution_count": 4,
      "metadata": {
        "colab": {
          "base_uri": "https://localhost:8080/"
        },
        "id": "nYMNZrySwY0S",
        "outputId": "5974ea27-d616-4e00-e675-b34eae370640"
      },
      "outputs": [
        {
          "output_type": "execute_result",
          "data": {
            "text/plain": [
              "array([[60., 52., 52., 53., 52., 50.]])"
            ]
          },
          "metadata": {},
          "execution_count": 4
        }
      ],
      "source": [
        "data[\"tmax\"].head(6).to_numpy()[np.newaxis,:]"
      ]
    },
    {
      "cell_type": "code",
      "execution_count": 5,
      "metadata": {
        "colab": {
          "base_uri": "https://localhost:8080/"
        },
        "id": "PK27BrGXwY0T",
        "outputId": "0f389d9d-7a73-49ba-9866-c17cf5db9edc"
      },
      "outputs": [
        {
          "output_type": "execute_result",
          "data": {
            "text/plain": [
              "array([[64., 63., 62., 61., 60., 62., 67., 66., 70., 62.]])"
            ]
          },
          "metadata": {},
          "execution_count": 5
        }
      ],
      "source": [
        "data[\"tmax\"].tail(10).to_numpy()[np.newaxis,:]"
      ]
    },
    {
      "cell_type": "markdown",
      "metadata": {
        "id": "FKh86aiSwY0U"
      },
      "source": [
        "These temperatures are all related - the temperature today affects the temperature tomorrow.  But if we train a neural network to evaluate each sequence position separately, it won't be able to efficiently learn the relationship between one sequence position and the next.  The network will effectively have to re-learn this relationship between each pair of time steps.\n",
        "\n",
        "Instead of the network being able to say \"all time steps are related to the previous time step\", it will have to say \"time step `0` is related to time step `1`, time step `1` is related to time step `2`\", and so on.  This is a lot less efficient.\n",
        "\n",
        "RNNs are a kind of neural network that solve this problem by processing an entire sequence at once.  In this lesson, we'll learn how to build one in Python."
      ]
    },
    {
      "cell_type": "markdown",
      "metadata": {
        "id": "CxarkLJEwY0V"
      },
      "source": [
        "## RNN Architecture\n",
        "\n",
        "RNNs work by sharing parameters (weights and biases) across steps in a sequence.  At a very high level, a recurrent neural network looks like this:\n",
        "\n",
        "![Rolled RNN](https://github.com/VikParuchuri/zero_to_gpt/blob/master/explanations/images/rnn/rnn_rolled.svg?raw=1)\n",
        "\n",
        "What we see above is called a compact representation of an RNN.  We pass input (values from a single time step) into the bottom of an RNN.  It is then passed through the input step (I) and the hidden step (H) before getting to the output step (O) where you get a prediction for the next element in the sequence.\n",
        "\n",
        "The arrow connecting H to itself is called recurrence.  It means that the H layers are connected to each other across sequence steps.  To see how this works, let's take a look at an expanded representation of an RNN:\n",
        "\n",
        "![Unrolled RNN](https://github.com/VikParuchuri/zero_to_gpt/blob/master/explanations/images/rnn/rnn_unrolled.svg?raw=1)\n",
        "\n",
        "Each sequence element is labeled at the bottom with the time step of the element.  The first element in the sequence is `t0`, the second is `t1`, and so on.  You can see that each element is passed into the input step, then to the hidden step.  But the output of the hidden step is passed both to the output, and to the next hidden step.\n",
        "\n",
        "This means that at each step, an RNN knows about the inputs at previous steps.  The \"memory\" of the network is stored in the hidden step (H), and represented as an internal matrix of values.  This matrix is updated at each time step with new information about the sequence."
      ]
    },
    {
      "cell_type": "markdown",
      "metadata": {
        "id": "FN3CxDEbwY0W"
      },
      "source": [
        "## RNN Operations\n",
        "\n",
        "It can help to look at the exact operations that happen at each step in an RNN:\n",
        "\n",
        "![Unrolled RNN](https://github.com/VikParuchuri/zero_to_gpt/blob/master/explanations/images/rnn/rnn_operations.svg?raw=1)\n",
        "\n",
        "An RNN has 3 steps:\n",
        "\n",
        "- Input - take in a sequence item, and multiply it by the input weight\n",
        "- Hidden - Take the previous hidden state, and multiply it by the hidden weight.  Add in the input, then apply a nonlinear activation function.\n",
        "- Output weight - Take the hidden state, and multiply by the output weight.\n",
        "\n",
        "We also add in bias terms at the hidden and output steps, but the biases are left off the diagram to make it easier to read.\n",
        "\n",
        "The trickiest part of an RNN is the hidden step.  It's this step that gives an RNN its power, by enabling it to have memory.  The hidden state of the RNN stores information about previous sequence elements.  The hidden weights enable the RNN to remember or forget certain information about past sequence elements.\n",
        "\n",
        "This way, the RNN can have knowledge of past elements in the sequence without having separate parameters for each sequence item.  This is called parameter sharing - the RNN shares the same set of input, hidden, and output weights for every sequence element.\n",
        "\n",
        "This enables the RNN to be used for sequences of any length - we don't need a fixed size input sequence length.\n",
        "\n",
        "## Forward Pass\n",
        "\n",
        "Let's go through an example to see how this works.  We'll initialize each weight matrix, then do a sample forward pass with 3 sequence elements:"
      ]
    },
    {
      "cell_type": "code",
      "execution_count": 6,
      "metadata": {
        "colab": {
          "base_uri": "https://localhost:8080/"
        },
        "id": "1qkWJWkkwY0X",
        "outputId": "ea277ed9-70b6-4877-8485-f3e276276e32"
      },
      "outputs": [
        {
          "output_type": "execute_result",
          "data": {
            "text/plain": [
              "array([66., 70., 62.])"
            ]
          },
          "metadata": {},
          "execution_count": 6
        }
      ],
      "source": [
        "# Set a random seed so the random numbers are the same every time\n",
        "np.random.seed(0)\n",
        "# Take the input number and turn it into 2 features\n",
        "i_weight = np.random.rand(1,2)\n",
        "# Hidden to hidden weight connection - 2 features to 2 features\n",
        "h_weight = np.random.rand(2,2)\n",
        "# Output weight connection - turn 2 features into one prediction\n",
        "o_weight = np.random.rand(2,1)\n",
        "\n",
        "# Get 3 temperature values from our data\n",
        "temps = data[\"tmax\"].tail(3).to_numpy()\n",
        "temps"
      ]
    },
    {
      "cell_type": "code",
      "source": [
        "i_weight.var()"
      ],
      "metadata": {
        "colab": {
          "base_uri": "https://localhost:8080/"
        },
        "id": "RLFZPUG_3RAq",
        "outputId": "6512d39d-7d3a-489d-f872-565d6bc56e0f"
      },
      "execution_count": 7,
      "outputs": [
        {
          "output_type": "execute_result",
          "data": {
            "text/plain": [
              "np.float64(0.00692023190108727)"
            ]
          },
          "metadata": {},
          "execution_count": 7
        }
      ]
    },
    {
      "cell_type": "markdown",
      "source": [
        "Above, we initialized our network parameters.  We used the numpy `random.rand` function to randomly create parameter matrices of a certain shape.  This network will take in a single input feature, turn it into `2` hidden features, and output one prediction.\n",
        "\n",
        "We can then setup our input to the forward pass.  We'll reshape each input value into a `1x1` matrix to make multiplication more convenient:"
      ],
      "metadata": {
        "collapsed": false,
        "id": "NtV6GWtfwY0Y"
      }
    },
    {
      "cell_type": "code",
      "execution_count": 8,
      "metadata": {
        "id": "cDd-Wv19wY0Z"
      },
      "outputs": [],
      "source": [
        "# Assign the sequence input at each time step to a different variable.\n",
        "# x0 means input at time step 0\n",
        "# Ensure that each element is a 1x1 matrix, so we can multiply it\n",
        "x0 = temps[0].reshape(1,1)\n",
        "x1 = temps[1].reshape(1,1)\n",
        "x2 = temps[2].reshape(1,1)"
      ]
    },
    {
      "cell_type": "code",
      "source": [],
      "metadata": {
        "id": "FzkLlcp5Ddqn"
      },
      "execution_count": 8,
      "outputs": []
    },
    {
      "cell_type": "markdown",
      "metadata": {
        "id": "Ejbxx-8vwY0Z"
      },
      "source": [
        "Now we can feed the element at time step 0 into our network:"
      ]
    },
    {
      "cell_type": "code",
      "execution_count": 9,
      "metadata": {
        "colab": {
          "base_uri": "https://localhost:8080/"
        },
        "id": "UPBZwJI8wY0a",
        "outputId": "b9c2bfa4-c602-44e2-bd0b-11f6d03dcd97"
      },
      "outputs": [
        {
          "output_type": "execute_result",
          "data": {
            "text/plain": [
              "array([[57.94406231]])"
            ]
          },
          "metadata": {},
          "execution_count": 9
        }
      ],
      "source": [
        "# Calculate xi at time step 0\n",
        "xi_0 = x0 @ i_weight\n",
        "\n",
        "# There is no previous time step, so there is no hidden state\n",
        "# apply relu over the input to get the hidden state for time step 0 xh_0\n",
        "xh_0 = np.maximum(0, xi_0)\n",
        "\n",
        "# Get the output at time step 0 xo_0\n",
        "xo_0 = xh_0 @ o_weight\n",
        "\n",
        "xo_0"
      ]
    },
    {
      "cell_type": "markdown",
      "metadata": {
        "id": "4TbZ6nKYwY0b"
      },
      "source": [
        "`xo_0` is our prediction for the next step in the sequence.\n",
        "\n",
        "We can then move the network forward to time step `1`:"
      ]
    },
    {
      "cell_type": "code",
      "execution_count": 10,
      "metadata": {
        "colab": {
          "base_uri": "https://localhost:8080/"
        },
        "id": "5rjmW1jWwY0c",
        "outputId": "94146e21-c237-4c1b-8ce2-4f3b2df035e4"
      },
      "outputs": [
        {
          "output_type": "execute_result",
          "data": {
            "text/plain": [
              "array([[124.54916092]])"
            ]
          },
          "metadata": {},
          "execution_count": 10
        }
      ],
      "source": [
        "# We feed the input in the same way as the previous time step\n",
        "xi_1 = x1 @ i_weight\n",
        "\n",
        "# This time, we do have a previous time step, so we calculate xh\n",
        "# This is multiplying the previous hidden state xh_0 by the hidden weights\n",
        "xh = xh_0 @ h_weight\n",
        "\n",
        "# We add the previous hidden state (times h_weight) to the input at time step 1\n",
        "xh_1 = np.maximum(0, xh + xi_1)\n",
        "\n",
        "# We again find the output by multiplying xh_1 by the output weight\n",
        "xo_1 = xh_1 @ o_weight\n",
        "\n",
        "xo_1"
      ]
    },
    {
      "cell_type": "markdown",
      "metadata": {
        "id": "UY1SjWaXwY0c"
      },
      "source": [
        "`xo_1` is our prediction for the next sequence element.  Now we can do the same for our final time step, 2:"
      ]
    },
    {
      "cell_type": "code",
      "execution_count": 11,
      "metadata": {
        "colab": {
          "base_uri": "https://localhost:8080/"
        },
        "id": "41M4m-RkwY0d",
        "outputId": "cce0bc91-1dd5-4219-a335-7bbfb3ccf17c"
      },
      "outputs": [
        {
          "output_type": "execute_result",
          "data": {
            "text/plain": [
              "array([[190.94853131]])"
            ]
          },
          "metadata": {},
          "execution_count": 11
        }
      ],
      "source": [
        "# We feed the input in the same way as the previous time step\n",
        "xi_2 = x2 @ i_weight\n",
        "\n",
        "# This time, we do have a previous time step, so we calculate xh\n",
        "# This is multiplying the previous hidden state xh_1 by the hidden weights\n",
        "xh = xh_1 @ h_weight\n",
        "\n",
        "# We add the previous hidden state (times h_weight) to the input at time step 2\n",
        "xh_2 = np.maximum(0, xh + xi_2)\n",
        "\n",
        "# We again find the output by multiplying xh_1 by the output weight\n",
        "xo_2 = xh_2 @ o_weight\n",
        "\n",
        "xo_2"
      ]
    },
    {
      "cell_type": "markdown",
      "metadata": {
        "id": "xa93RqlwwY0e"
      },
      "source": [
        "We've now passed through 3 forward steps of our RNN!  The output `x0` at each time step is the prediction for the next element in the sequence.\n",
        "\n",
        "The hidden state of the RNN allows the network to have information about all past sequence elements.  So when we're processing the sequence item at time step 2, the hidden state of the RNN stores information about the sequence elements at time step `0` and `1`."
      ]
    },
    {
      "cell_type": "markdown",
      "metadata": {
        "id": "gIT9jHSLwY0f"
      },
      "source": [
        "## Nonlinearity\n",
        "\n",
        "You may have noticed that the output values increased in each time step of our RNN.  That's because the hidden states kept getting larger and larger.  Unlike the sigmoid or softmax activation functions, relu doesn't change the scale of the inputs at all (it just sets some to 0).  This means that some values get repeatedly multiplied and grow larger and larger.\n",
        "\n",
        "We can see this below:"
      ]
    },
    {
      "cell_type": "code",
      "execution_count": 12,
      "metadata": {
        "colab": {
          "base_uri": "https://localhost:8080/"
        },
        "id": "VPkZhMYqwY0f",
        "outputId": "c8b1c699-cb50-484d-deab-fc146449e27e"
      },
      "outputs": [
        {
          "output_type": "execute_result",
          "data": {
            "text/plain": [
              "array([[36.22169126, 47.20249818]])"
            ]
          },
          "metadata": {},
          "execution_count": 12
        }
      ],
      "source": [
        "xh_0"
      ]
    },
    {
      "cell_type": "code",
      "execution_count": 13,
      "metadata": {
        "colab": {
          "base_uri": "https://localhost:8080/"
        },
        "id": "FpUL9IHjwY0k",
        "outputId": "34c3a2b7-17d3-4936-ff54-07b5c53bde01"
      },
      "outputs": [
        {
          "output_type": "execute_result",
          "data": {
            "text/plain": [
              "array([[124.88411227, 152.84252918]])"
            ]
          },
          "metadata": {},
          "execution_count": 13
        }
      ],
      "source": [
        "xh_2"
      ]
    },
    {
      "cell_type": "markdown",
      "metadata": {
        "id": "CJQqoCNkwY0k"
      },
      "source": [
        "We can see that our hidden state at time step 2 is much larger than the initial hidden state.\n",
        "\n",
        "To fix this, we usually use the $\\tanh$ activation function for RNNs.  The equation for $\\tanh$ is:\n",
        "\n",
        "$$\\tanh = \\dfrac{e^{x}-e^{-x}}{e^{x}+e^{-x}}$$\n",
        "\n",
        "As x gets large, $e^{x}$ gets very big, and $e^{-x}$ gets very small.  This pushes the output of $\\tanh$ towards `1`.  When x gets very small (negative), $e^{-x}$ gets very large, and $e^{x}$ gets very small.  This results in `-1`.\n",
        "\n",
        "We can graph the $tanh$ function to see how this works:"
      ]
    },
    {
      "cell_type": "code",
      "execution_count": 14,
      "metadata": {
        "colab": {
          "base_uri": "https://localhost:8080/",
          "height": 447
        },
        "id": "kKRzyMNGwY0l",
        "outputId": "816f0e3b-784c-4905-8144-e9c6583994d1"
      },
      "outputs": [
        {
          "output_type": "execute_result",
          "data": {
            "text/plain": [
              "[<matplotlib.lines.Line2D at 0x784558f74350>]"
            ]
          },
          "metadata": {},
          "execution_count": 14
        },
        {
          "output_type": "display_data",
          "data": {
            "text/plain": [
              "<Figure size 640x480 with 1 Axes>"
            ],
            "image/png": "[encoded data removed]"
          },
          "metadata": {}
        }
      ],
      "source": [
        "import matplotlib.pyplot as plt\n",
        "# Define some temperature values\n",
        "temps = np.arange(-10, 10, .1)\n",
        "\n",
        "# Plot the tanh of the values\n",
        "plt.plot(temps, np.tanh(temps))"
      ]
    },
    {
      "cell_type": "markdown",
      "metadata": {
        "id": "eOur-fn1wY0l"
      },
      "source": [
        "$\\tanh$ outputs values between `-1` and `1`.  It also has a very steep slope before and after `0` on the x-axis.  The tanh activation function is better for our purposes than sigmoid because it enables us to have negative values.  This enables the gradient to be steeper, which aids in gradient descent.\n",
        "\n",
        "Let's take a look at the derivative of tanh using sympy:"
      ]
    },
    {
      "cell_type": "code",
      "execution_count": 15,
      "metadata": {
        "colab": {
          "base_uri": "https://localhost:8080/",
          "height": 60
        },
        "id": "8MZnwJXMwY0l",
        "outputId": "a6e728ee-c3bb-4a02-80fe-74f3563fbd15"
      },
      "outputs": [
        {
          "output_type": "execute_result",
          "data": {
            "text/plain": [
              "(-exp(x) + exp(-x))*(exp(x) - exp(-x))/(exp(x) + exp(-x))**2 + 1"
            ],
            "text/latex": "$\\displaystyle \\frac{\\left(- e^{x} + e^{- x}\\right) \\left(e^{x} - e^{- x}\\right)}{\\left(e^{x} + e^{- x}\\right)^{2}} + 1$"
          },
          "metadata": {},
          "execution_count": 15
        }
      ],
      "source": [
        "from sympy import diff, symbols, exp\n",
        "\n",
        "x = symbols(\"x\")\n",
        "sympy_tanh = (exp(x) - exp(-x)) / (exp(x) + exp(-x))\n",
        "diff(sympy_tanh, x)"
      ]
    },
    {
      "cell_type": "markdown",
      "metadata": {
        "id": "AqydNfHxwY0m"
      },
      "source": [
        "Sympy doesn't quite simplify the derivative all the way.  Like the derivatives of the sigmoid and softmax functions, we can express the derivative of $\\tanh{x}$ in terms of the output - $1 - \\tanh^2{x}$.  We can then graph this derivative:"
      ]
    },
    {
      "cell_type": "code",
      "execution_count": 16,
      "metadata": {
        "colab": {
          "base_uri": "https://localhost:8080/",
          "height": 447
        },
        "id": "xx9PoRQmwY0n",
        "outputId": "cd364126-0bdb-45c3-e747-18db4b714ad6"
      },
      "outputs": [
        {
          "output_type": "execute_result",
          "data": {
            "text/plain": [
              "[<matplotlib.lines.Line2D at 0x784555b86f00>]"
            ]
          },
          "metadata": {},
          "execution_count": 16
        },
        {
          "output_type": "display_data",
          "data": {
            "text/plain": [
              "<Figure size 640x480 with 1 Axes>"
            ],
            "image/png": "[encoded data removed]"
          },
          "metadata": {}
        }
      ],
      "source": [
        "plt.plot(temps, 1 - np.tanh(temps) ** 2)"
      ]
    },
    {
      "cell_type": "markdown",
      "metadata": {
        "id": "corLG805wY0n"
      },
      "source": [
        "As you can see, the derivative has a steep slope, making it ideal as an activation function - this will enable gradient descent to descend effectively.  We can now use $\\tanh$ instead of relu in our network."
      ]
    },
    {
      "cell_type": "markdown",
      "metadata": {
        "id": "GqIlfY2hwY0n"
      },
      "source": [
        "## Full Forward Pass\n",
        "\n",
        "We now know enough to put together a complete RNN forward pass.  We'll first initialize our weights and biases.  We'll add in bias terms in the hidden and output steps.\n",
        "\n",
        "We'll also scale the weights and biases to work properly with the $\\tanh$ nonlinearity.  We'll make our input and hidden weights small, so $\\tanh$ doesn't squash all the values to `1` or `-1`.  We'll make the output weight large, since the output of the hidden step will be small (between `1` and `-1`).  Of course, in a full RNN, the network would eventually learn the correct parameters.  But initializing weights and biases to the correct ranges helps with gradient descent."
      ]
    },
    {
      "cell_type": "code",
      "execution_count": 17,
      "metadata": {
        "id": "FwH5bhjpwY0n"
      },
      "outputs": [],
      "source": [
        "np.random.seed(0)\n",
        "\n",
        "# Define our weights and biases\n",
        "# Scale them down so values get through the tanh nonlinearity\n",
        "i_weight = np.random.rand(1,5) / 5 - .1\n",
        "h_weight = np.random.rand(5,5) / 5 - .1\n",
        "h_bias = np.random.rand(1,5) / 5 - .1\n",
        "\n",
        "# Tanh pushes values to between -1 and 1, so scale up the output weights\n",
        "o_weight = np.random.rand(5,1) * 50\n",
        "o_bias = np.random.rand(1,1)"
      ]
    },
    {
      "cell_type": "code",
      "source": [
        "np.random.rand(5 ,1) * 50"
      ],
      "metadata": {
        "colab": {
          "base_uri": "https://localhost:8080/"
        },
        "id": "nnaWXJ64FMqZ",
        "outputId": "aced7899-495b-484d-e215-52a5e9b327cf"
      },
      "execution_count": 18,
      "outputs": [
        {
          "output_type": "execute_result",
          "data": {
            "text/plain": [
              "array([[21.85159769],\n",
              "       [34.8815598 ],\n",
              "       [ 3.01127358],\n",
              "       [33.33833577],\n",
              "       [33.53189348]])"
            ]
          },
          "metadata": {},
          "execution_count": 18
        }
      ]
    },
    {
      "cell_type": "code",
      "source": [],
      "metadata": {
        "id": "maTec7u1NHgd"
      },
      "execution_count": 18,
      "outputs": []
    },
    {
      "cell_type": "markdown",
      "source": [
        "Then we can write the forward pass as a for loop.  This loop will process sequence elements one by one.  We'll store the output prediction and the hidden state:"
      ],
      "metadata": {
        "collapsed": false,
        "id": "fifIW23NwY0o"
      }
    },
    {
      "cell_type": "code",
      "execution_count": 19,
      "metadata": {
        "colab": {
          "base_uri": "https://localhost:8080/"
        },
        "id": "XmKxLMU8wY0p",
        "outputId": "26a45c42-9227-490d-ec56-a33d81274012"
      },
      "outputs": [
        {
          "output_type": "stream",
          "name": "stderr",
          "text": [
            "/tmp/ipython-input-1174838102.py:29: DeprecationWarning: Conversion of an array with ndim > 0 to a scalar is deprecated, and will error in future. Ensure you extract a single element from your array before performing this operation. (Deprecated NumPy 1.25.)\n",
            "  outputs[i] = xo\n"
          ]
        }
      ],
      "source": [
        "# An array to store the output predictions\n",
        "outputs = np.zeros(3)\n",
        "# An array to store hidden states for use in backpropagation\n",
        "hiddens = np.zeros((3, 5))\n",
        "\n",
        "# This will store the previous hidden state, since we'll need it to calculate the current hidden step\n",
        "prev_hidden = None\n",
        "sequence = data[\"tmax\"].tail(3).to_numpy()\n",
        "\n",
        "for i in range(3):\n",
        "    # Get the input sequence at the given position\n",
        "    x = sequence[i].reshape(1,1)\n",
        "\n",
        "    # Multiply input by input weight\n",
        "    xi = x @ i_weight\n",
        "    if prev_hidden is not None:\n",
        "        # Add previous hidden to input\n",
        "        xh = xi + prev_hidden @ h_weight + h_bias\n",
        "    else:\n",
        "        xh = xi\n",
        "\n",
        "    # Apply our activation function\n",
        "    xh = np.tanh(xh)\n",
        "    prev_hidden = xh\n",
        "    hiddens[i,] = xh\n",
        "\n",
        "    # Multiply by the output weight\n",
        "    xo = xh @ o_weight + o_bias\n",
        "    outputs[i] = xo"
      ]
    },
    {
      "cell_type": "code",
      "source": [
        "outputs"
      ],
      "metadata": {
        "colab": {
          "base_uri": "https://localhost:8080/"
        },
        "id": "5ITlYM2SPG3s",
        "outputId": "f40f7fa9-a780-4faf-b13b-8541e9fcffec"
      },
      "execution_count": 20,
      "outputs": [
        {
          "output_type": "execute_result",
          "data": {
            "text/plain": [
              "array([74.31470595, 80.66149404, 77.67852446])"
            ]
          },
          "metadata": {},
          "execution_count": 20
        }
      ]
    },
    {
      "cell_type": "markdown",
      "source": [
        "Afterwards, we can take a look at our outputs and hidden states.  As we can see, the hidden states don't increase constantly anymore:"
      ],
      "metadata": {
        "collapsed": false,
        "id": "TZkmX6fAwY0q"
      }
    },
    {
      "cell_type": "code",
      "execution_count": 21,
      "metadata": {
        "colab": {
          "base_uri": "https://localhost:8080/"
        },
        "id": "k2sXep3MwY0q",
        "outputId": "a6950c5e-e0fc-4cbd-d745-1bc642bb4ed1"
      },
      "outputs": [
        {
          "output_type": "execute_result",
          "data": {
            "text/plain": [
              "array([74.31470595, 80.66149404, 77.67852446])"
            ]
          },
          "metadata": {},
          "execution_count": 21
        }
      ],
      "source": [
        "outputs"
      ]
    },
    {
      "cell_type": "code",
      "execution_count": 22,
      "metadata": {
        "colab": {
          "base_uri": "https://localhost:8080/"
        },
        "id": "GDXU3n5owY0r",
        "outputId": "37151a99-f095-47f8-b9dd-169874cc1322"
      },
      "outputs": [
        {
          "output_type": "execute_result",
          "data": {
            "text/plain": [
              "array([[ 0.56784618,  0.99320288,  0.87557333,  0.53166114, -0.76483255],\n",
              "       [ 0.58366756,  0.99568651,  0.90034879,  0.69338529, -0.84149203],\n",
              "       [ 0.5383306 ,  0.99164251,  0.86287584,  0.66091071, -0.80543591]])"
            ]
          },
          "metadata": {},
          "execution_count": 22
        }
      ],
      "source": [
        "hiddens"
      ]
    },
    {
      "cell_type": "markdown",
      "source": [
        "## Calculating loss\n",
        "\n",
        "After we do our forward pass, we can calculate the gradient with respect to the network outputs using `mse_grad`:"
      ],
      "metadata": {
        "collapsed": false,
        "id": "8_8BDKiKwY0r"
      }
    },
    {
      "cell_type": "code",
      "execution_count": 37,
      "metadata": {
        "id": "lKLEU3fhwY0r"
      },
      "outputs": [],
      "source": [
        "def mse(actual, predicted):\n",
        "    return np.mean((actual-predicted)**2)\n",
        "\n",
        "def mse_grad(actual, predicted):\n",
        "    N = actual.size  # number of elements\n",
        "    return (2 / N) * (predicted - actual)"
      ]
    },
    {
      "cell_type": "code",
      "execution_count": 24,
      "metadata": {
        "colab": {
          "base_uri": "https://localhost:8080/"
        },
        "id": "s6ySY-wRwY0s",
        "outputId": "c915bd04-5c34-4c70-e1ec-d82cd2519a1d"
      },
      "outputs": [
        {
          "output_type": "execute_result",
          "data": {
            "text/plain": [
              "array([ 2.87647064, 12.44099603,  8.45234964])"
            ]
          },
          "metadata": {},
          "execution_count": 24
        }
      ],
      "source": [
        "# Actual next day temperatures\n",
        "actuals = np.array([70, 62, 65])\n",
        "\n",
        "loss_grad = mse_grad(actuals, outputs)\n",
        "loss_grad"
      ]
    },
    {
      "cell_type": "markdown",
      "source": [
        "## Backward Pass\n",
        "\n",
        "Now that we've written a forward pass, let's think about the backward pass to update our model parameters.  The main complication in the backward pass is that parameters impact both the current output and future outputs.\n",
        "\n",
        "Let's visualize this, starting with the last sequence item:\n",
        "\n",
        "![last hidden](https://github.com/VikParuchuri/zero_to_gpt/blob/master/explanations/images/rnn/gradient_last.svg?raw=1)\n",
        "\n",
        "As you can see above, the last hidden step is only used by the output of the last time step.  But this is different for other hidden steps:\n",
        "\n",
        "![prev hidden](https://github.com/VikParuchuri/zero_to_gpt/blob/master/explanations/images/rnn/gradient_inside.svg?raw=1)\n",
        "\n",
        "The hidden step at time step 2 is connected to both the output and the next hidden state.  So it affects not just the current output, but all subsequent outputs, too.\n",
        "\n",
        "We have to consider this fact when we do backpropagation - some parameters will impact multiple outputs.  This means that they need to get gradients from multiple outputs to be properly adjusted."
      ],
      "metadata": {
        "collapsed": false,
        "id": "9XTlWmAiwY0t"
      }
    },
    {
      "cell_type": "markdown",
      "source": [
        "We'll have to send the gradient with respect to each hidden step backwards to the previous sequence position.  This is called backpropagation through time, and it's how we train the parameters of an RNN."
      ],
      "metadata": {
        "collapsed": false,
        "id": "nX1KwrYKwY0t"
      }
    },
    {
      "cell_type": "markdown",
      "metadata": {
        "id": "yzJumPDwwY0u"
      },
      "source": [
        "Here are the operations we will follow to do a backward pass.  They're essentially a reverse of the forward pass:\n",
        "\n",
        "![rnn backward](https://github.com/VikParuchuri/zero_to_gpt/blob/master/explanations/images/rnn/rnn_operations_bw.svg?raw=1)\n"
      ]
    },
    {
      "cell_type": "markdown",
      "source": [
        "Let's implement the backward pass one by one for each sequence element.\n",
        "\n",
        "We start out by creating variables to store the gradients with respect to each parameter.  We do this because we want to sum the gradients across time positions before making updates with gradient descent:"
      ],
      "metadata": {
        "collapsed": false,
        "id": "xIL7TNvhwY0u"
      }
    },
    {
      "cell_type": "code",
      "execution_count": 25,
      "outputs": [],
      "source": [
        "# These will keep a running total of the gradients\n",
        "o_weight_grad, o_bias_grad, h_weight_grad, h_bias_grad, i_weight_grad = [0] * 5"
      ],
      "metadata": {
        "id": "K7isA8yswY0u"
      }
    },
    {
      "cell_type": "markdown",
      "source": [
        "Then, we can run backpropagation for the last sequence element (we start at the end).  In this case, there is no next hidden state, so we only need to worry about the gradient wrt the output at this position:"
      ],
      "metadata": {
        "collapsed": false,
        "id": "ae7Ebq3VwY0u"
      }
    },
    {
      "cell_type": "code",
      "execution_count": 26,
      "outputs": [],
      "source": [
        "# Get the loss wrt the output at the current time step\n",
        "l2_grad = loss_grad[2].reshape(1,1)\n",
        "\n",
        "# Add to the output weight gradient\n",
        "# Multiply the output of the hidden step (hiddens[2]) transposed by the l2 grad\n",
        "# np.newaxis creates a new size 1 axis, effectively transposing the hiddens\n",
        "o_weight_grad += hiddens[2][:,np.newaxis] @ l2_grad\n",
        "# Add to the bias gradient.  Similar to a dense neural network, this is just the mean of the l2_grad.\n",
        "o_bias_grad += np.mean(l2_grad)\n",
        "\n",
        "# Find the gradient wrt the hidden step output\n",
        "h2_grad = l2_grad @ o_weight.T\n",
        "\n",
        "# Derivative of the tanh function\n",
        "tanh_deriv = 1 - hiddens[2,:][np.newaxis,:] ** 2\n",
        "# Multiply each position in the h_grad by the tanh derivative - this \"undoes\" the tanh in the forward pass\n",
        "h2_grad = np.multiply(h2_grad, tanh_deriv)\n",
        "\n",
        "# Now, find how much we need to update the hidden weights.\n",
        "# We take the input to the hidden step (the output of the previous hidden step in the forward pass) @ h2_grad\n",
        "h_weight_grad += hiddens[1,:][:,np.newaxis] @ h2_grad\n",
        "h_bias_grad += np.mean(h2_grad)\n",
        "\n",
        "# This multiples the sequence value at time step 2 by the gradient\n",
        "# We don't need the .T here, but I left it here in case you have a larger input size\n",
        "i_weight_grad += sequence[2].reshape(1,1).T @ h2_grad"
      ],
      "metadata": {
        "id": "dkok9gkDwY0v"
      }
    },
    {
      "cell_type": "markdown",
      "source": [
        "A lot of the above step is very similar to backpropagation in a dense neural network.  The main difference comes in the next sequence position (1) where we need to consider multiple gradients at the hidden step:"
      ],
      "metadata": {
        "collapsed": false,
        "id": "6o_ODTKrwY0v"
      }
    },
    {
      "cell_type": "code",
      "execution_count": 27,
      "outputs": [],
      "source": [
        "l1_grad = loss_grad[1].reshape(1,1)\n",
        "\n",
        "o_weight_grad += hiddens[1][:,np.newaxis] @ l1_grad\n",
        "o_bias_grad += np.mean(l1_grad)\n",
        "\n",
        "h1_grad = l1_grad @ o_weight.T\n",
        "\n",
        "# We do have a next sequence position (2), so we need to include that gradient\n",
        "# We multiply the h2 gradient by the weight to pull it back to the current sequence position\n",
        "h1_grad += h2_grad @ h_weight.T\n",
        "\n",
        "# The rest of the operation is the same\n",
        "tanh_deriv = 1 - hiddens[1,:][np.newaxis,:] ** 2\n",
        "h1_grad = np.multiply(h1_grad, tanh_deriv)\n",
        "\n",
        "h_weight_grad += hiddens[1,:][:,np.newaxis] @ h1_grad\n",
        "h_bias_grad += np.mean(h1_grad)\n",
        "\n",
        "i_weight_grad += sequence[1].reshape(1,1).T @ h1_grad"
      ],
      "metadata": {
        "id": "8FLALzRewY0v"
      }
    },
    {
      "cell_type": "markdown",
      "source": [
        "Now, we can do the final sequence position, 0.  The main difference here is that we don't update the hidden gradient, since there is no previous sequence position that gave us hidden state input in the forward pass:"
      ],
      "metadata": {
        "collapsed": false,
        "id": "yqFgf30gwY0w"
      }
    },
    {
      "cell_type": "code",
      "execution_count": 28,
      "outputs": [],
      "source": [
        "l0_grad = loss_grad[0].reshape(1,1)\n",
        "\n",
        "o_weight_grad += hiddens[0][:,np.newaxis] @ l0_grad\n",
        "o_bias_grad += np.mean(l0_grad)\n",
        "\n",
        "h0_grad = l0_grad @ o_weight.T\n",
        "\n",
        "h0_grad += h1_grad @ h_weight.T\n",
        "\n",
        "tanh_deriv = 1 - hiddens[0,:][np.newaxis,:] ** 2\n",
        "h0_grad = np.multiply(h0_grad, tanh_deriv)\n",
        "\n",
        "# We don't update the hidden weight, since there was no previous hidden state\n",
        "# We can update the hidden bias if you want\n",
        "\n",
        "i_weight_grad += sequence[0].reshape(1,1).T @ h0_grad"
      ],
      "metadata": {
        "id": "R88Lv32OwY0w"
      }
    },
    {
      "cell_type": "markdown",
      "source": [
        "We can now look at our gradient updates:"
      ],
      "metadata": {
        "collapsed": false,
        "id": "dzP753HYwY0w"
      }
    },
    {
      "cell_type": "code",
      "execution_count": 29,
      "outputs": [
        {
          "output_type": "execute_result",
          "data": {
            "text/plain": [
              "array([[36332.47640317,   617.97954351, 10838.50065592, 44102.66459879,\n",
              "        18194.85922792]])"
            ]
          },
          "metadata": {},
          "execution_count": 29
        }
      ],
      "source": [
        "i_weight_grad"
      ],
      "metadata": {
        "colab": {
          "base_uri": "https://localhost:8080/"
        },
        "id": "gEjAFsn9wY0w",
        "outputId": "ee13a119-8b86-458b-f072-b1c660b3f01f"
      }
    },
    {
      "cell_type": "markdown",
      "source": [
        "We've now completed backpropagation across 3 time steps!  We'll see how to make the gradient updates in the next section."
      ],
      "metadata": {
        "collapsed": false,
        "id": "BhdycUPPwY0x"
      }
    },
    {
      "cell_type": "markdown",
      "metadata": {
        "id": "bYVj5h_ywY0y"
      },
      "source": [
        "## Full Backward Pass\n",
        "\n",
        "Similar to a forward pass, we can implement the full backward pass as a loop.  Here it is:"
      ]
    },
    {
      "cell_type": "code",
      "execution_count": 30,
      "metadata": {
        "id": "HK7VvF_2wY0y"
      },
      "outputs": [],
      "source": [
        "next_hidden = None\n",
        "\n",
        "o_weight_grad, o_bias_grad, h_weight_grad, h_bias_grad, i_weight_grad = [0] * 5\n",
        "\n",
        "for i in range(2, -1, -1):\n",
        "    l_grad = loss_grad[i].reshape(1,1)\n",
        "\n",
        "    o_weight_grad += hiddens[i][:,np.newaxis] @ l_grad\n",
        "    o_bias_grad += np.mean(l_grad)\n",
        "\n",
        "    o_grad = l_grad @ o_weight.T\n",
        "\n",
        "    # Only add in the hidden gradient if a next sequence exists\n",
        "    if next_hidden is not None:\n",
        "        h_grad = o_grad + next_hidden @ h_weight.T\n",
        "    else:\n",
        "        h_grad = o_grad\n",
        "\n",
        "    tanh_deriv = 1 - hiddens[i,:][np.newaxis,:] ** 2\n",
        "    h_grad = np.multiply(h_grad, tanh_deriv)\n",
        "\n",
        "    next_hidden = h_grad\n",
        "\n",
        "    # Don't update the hidden weights for the first sequence position\n",
        "    if i > 0:\n",
        "        h_weight_grad += hiddens[i-1,:][:,np.newaxis] @ h_grad\n",
        "        h_bias_grad += np.mean(h_grad)\n",
        "\n",
        "    i_weight_grad += sequence[i].reshape(1,1).T @ h_grad"
      ]
    },
    {
      "cell_type": "markdown",
      "metadata": {
        "id": "WhYBez4ZwY0z"
      },
      "source": [
        "We can then use gradient descent to make parameter updates:"
      ]
    },
    {
      "cell_type": "code",
      "execution_count": 31,
      "metadata": {
        "id": "SWyJmFz8wY00"
      },
      "outputs": [],
      "source": [
        "lr = 1e-6\n",
        "# We'll divide the learning rate by the sequence length, since we were adding together the gradients\n",
        "# This makes training the model more stable\n",
        "lr = lr / 3\n",
        "\n",
        "i_weight -= i_weight_grad * lr\n",
        "h_weight -= h_weight_grad * lr\n",
        "h_bias -= h_bias_grad * lr\n",
        "o_weight -= o_weight_grad * lr\n",
        "o_bias -= o_bias_grad * lr"
      ]
    },
    {
      "cell_type": "markdown",
      "source": [
        "## Full Implementation"
      ],
      "metadata": {
        "collapsed": false,
        "id": "7BKLshb1wY01"
      }
    },
    {
      "cell_type": "markdown",
      "metadata": {
        "id": "mSaFXXHMwY02"
      },
      "source": [
        "We now know enough to do a full implementation of a complete network.  This code will mostly be the same as the forward and backward passes we already implemented.\n",
        "\n",
        "We'll first load in and scale our data:"
      ]
    },
    {
      "cell_type": "code",
      "execution_count": 32,
      "metadata": {
        "colab": {
          "base_uri": "https://localhost:8080/"
        },
        "id": "WqMjbBZ9wY02",
        "outputId": "783c7ed6-f724-45e3-fe8e-6e9f9412bd91"
      },
      "outputs": [
        {
          "output_type": "stream",
          "name": "stderr",
          "text": [
            "/usr/local/lib/python3.12/dist-packages/numpy/_core/fromnumeric.py:57: FutureWarning: 'DataFrame.swapaxes' is deprecated and will be removed in a future version. Please use 'DataFrame.transpose' instead.\n",
            "  return bound(*args, **kwds)\n"
          ]
        }
      ],
      "source": [
        "from sklearn.preprocessing import StandardScaler\n",
        "import math\n",
        "\n",
        "# Define predictors and target\n",
        "PREDICTORS = [\"tmax\", \"tmin\", \"rain\"]\n",
        "TARGET = \"tmax_tomorrow\"\n",
        "\n",
        "# Scale our data to have mean 0\n",
        "scaler = StandardScaler()\n",
        "data[PREDICTORS] = scaler.fit_transform(data[PREDICTORS])\n",
        "\n",
        "# Split into train, valid, test sets\n",
        "np.random.seed(0)\n",
        "split_data = np.split(data, [int(.7*len(data)), int(.85*len(data))])\n",
        "(train_x, train_y), (valid_x, valid_y), (test_x, test_y) = [[d[PREDICTORS].to_numpy(), d[[TARGET]].to_numpy()] for d in split_data]"
      ]
    },
    {
      "cell_type": "code",
      "source": [],
      "metadata": {
        "id": "TPgRbxpqacos"
      },
      "execution_count": 32,
      "outputs": []
    },
    {
      "cell_type": "markdown",
      "source": [
        "Then we can initialize our weights and biases.  We'll scale our parameters so they are relatively small.  This helps the network descend better:"
      ],
      "metadata": {
        "collapsed": false,
        "id": "-_i7si6wwY03"
      }
    },
    {
      "cell_type": "code",
      "source": [
        "r = [2, 2]\n",
        "list(range(1, 2))"
      ],
      "metadata": {
        "colab": {
          "base_uri": "https://localhost:8080/"
        },
        "id": "sdzA8_Dwc1NS",
        "outputId": "d58308c9-d9ca-4479-ddfa-771eab86b203"
      },
      "execution_count": 33,
      "outputs": [
        {
          "output_type": "execute_result",
          "data": {
            "text/plain": [
              "[1]"
            ]
          },
          "metadata": {},
          "execution_count": 33
        }
      ]
    },
    {
      "cell_type": "code",
      "source": [
        "def mse(actual, predicted):\n",
        "    return np.mean((actual-predicted)**2)\n",
        "\n",
        "def mse_grad(actual, predicted):\n",
        "    N = actual.size  # number of elements\n",
        "    return (2 / N) * (predicted - actual)"
      ],
      "metadata": {
        "id": "sGzDOc-zmCdQ"
      },
      "execution_count": 59,
      "outputs": []
    },
    {
      "cell_type": "code",
      "execution_count": 39,
      "metadata": {
        "id": "tH_61sWxwY03"
      },
      "outputs": [],
      "source": [
        "def init_params(layer_conf):\n",
        "    layers = []\n",
        "    for i in range(1, len(layer_conf)):\n",
        "        np.random.seed(0)\n",
        "        k = 1/math.sqrt(layer_conf[i][\"hidden\"])\n",
        "        i_weight = np.random.rand(layer_conf[i-1][\"units\"], layer_conf[i][\"hidden\"]) * 2 * k - k\n",
        "\n",
        "        h_weight = np.random.rand(layer_conf[i][\"hidden\"], layer_conf[i][\"hidden\"]) * 2 * k - k\n",
        "        h_bias = np.random.rand(1, layer_conf[i][\"hidden\"]) * 2 * k - k\n",
        "\n",
        "        o_weight = np.random.rand(layer_conf[i][\"hidden\"], layer_conf[i][\"output\"]) * 2 * k - k\n",
        "        o_bias = np.random.rand(1, layer_conf[i][\"output\"]) * 2 * k - k\n",
        "\n",
        "        layers.append(\n",
        "            [i_weight, h_weight, h_bias, o_weight, o_bias]\n",
        "        )\n",
        "    return layers"
      ]
    },
    {
      "cell_type": "markdown",
      "source": [
        "Then we'll write a forward pass:"
      ],
      "metadata": {
        "collapsed": false,
        "id": "IkMwBhvLwY04"
      }
    },
    {
      "cell_type": "code",
      "execution_count": 40,
      "metadata": {
        "id": "4hIeMwsCwY04"
      },
      "outputs": [],
      "source": [
        "def forward(x, layers):\n",
        "    hiddens = []\n",
        "    outputs = []\n",
        "    for i in range(len(layers)):\n",
        "        i_weight, h_weight, h_bias, o_weight, o_bias = layers[i]\n",
        "        hidden = np.zeros((x.shape[0], i_weight.shape[1]))\n",
        "        output = np.zeros((x.shape[0], o_weight.shape[1]))\n",
        "        for j in range(x.shape[0]):\n",
        "            input_x = x[j,:][np.newaxis,:] @ i_weight\n",
        "            hidden_x = input_x + hidden[max(j-1,0),:][np.newaxis,:] @ h_weight + h_bias\n",
        "            # Activation.  tanh avoids outputs getting larger and larger.\n",
        "            hidden_x = np.tanh(hidden_x)\n",
        "            # Store hidden for use in backprop\n",
        "            hidden[j,:] = hidden_x\n",
        "\n",
        "            # Output layer\n",
        "            output_x = hidden_x @ o_weight + o_bias\n",
        "            output[j,:] = output_x\n",
        "        hiddens.append(hidden)\n",
        "        outputs.append(output)\n",
        "    return hiddens, outputs[-1]"
      ]
    },
    {
      "cell_type": "markdown",
      "source": [
        "And a backward pass:"
      ],
      "metadata": {
        "collapsed": false,
        "id": "soEYQ891wY05"
      }
    },
    {
      "cell_type": "code",
      "execution_count": 41,
      "metadata": {
        "id": "PX9WUFBnwY06"
      },
      "outputs": [],
      "source": [
        "def backward(layers, x, lr, grad, hiddens):\n",
        "    for i in range(len(layers)):\n",
        "        i_weight, h_weight, h_bias, o_weight, o_bias = layers[i]\n",
        "        hidden = hiddens[i]\n",
        "        next_h_grad = None\n",
        "        i_weight_grad, h_weight_grad, h_bias_grad, o_weight_grad, o_bias_grad = [0] * 5\n",
        "\n",
        "        for j in range(x.shape[0] - 1, -1, -1):\n",
        "            # Add newaxis in the first dimension\n",
        "            out_grad = grad[j,:][np.newaxis, :]\n",
        "\n",
        "            # Output updates\n",
        "            # np.newaxis creates a size 1 axis, in this case transposing matrix\n",
        "            o_weight_grad += hidden[j,:][:, np.newaxis] @ out_grad\n",
        "            o_bias_grad += out_grad\n",
        "\n",
        "            # Propagate gradient to hidden unit\n",
        "            h_grad = out_grad @ o_weight.T\n",
        "\n",
        "            if j < x.shape[0] - 1:\n",
        "                # Then we multiply the gradient by the hidden weights to pull gradient from next hidden state to current hidden state\n",
        "                hh_grad = next_h_grad @ h_weight.T\n",
        "                # Add the gradients together to combine output contribution and hidden contribution\n",
        "                h_grad += hh_grad\n",
        "\n",
        "            # Pull the gradient across the current hidden nonlinearity\n",
        "            # derivative of tanh is 1 - tanh(x) ** 2\n",
        "            # So we take the output of tanh (next hidden state), and plug in\n",
        "            tanh_deriv = 1 - hidden[j][np.newaxis,:] ** 2\n",
        "\n",
        "            # next_h_grad @ np.diag(tanh_deriv_next) multiplies each element of next_h_grad by the deriv\n",
        "            # Effect is to pull value across nonlinearity\n",
        "            h_grad = np.multiply(h_grad, tanh_deriv)\n",
        "\n",
        "            # Store to compute h grad for previous sequence position\n",
        "            next_h_grad = h_grad.copy()\n",
        "\n",
        "            # If we're not at the very beginning\n",
        "            if j > 0:\n",
        "                # Multiply input from previous layer by post-nonlinearity grad at current layer\n",
        "                h_weight_grad += hidden[j-1][:, np.newaxis] @ h_grad\n",
        "\n",
        "            h_bias_grad += h_grad\n",
        "            i_weight_grad += x[j,:][:,np.newaxis] @ h_grad\n",
        "\n",
        "        # Normalize lr by number of sequence elements\n",
        "\n",
        "        i_weight -= i_weight_grad * lr\n",
        "        h_weight -= h_weight_grad * lr\n",
        "        h_bias -= h_bias_grad * lr\n",
        "        o_weight -= o_weight_grad * lr\n",
        "        o_bias -= o_bias_grad * lr\n",
        "        layers[i] = [i_weight, h_weight, h_bias, o_weight, o_bias]\n",
        "    return layers"
      ]
    },
    {
      "cell_type": "code",
      "source": [
        "layer_conf = [\n",
        "    {\"type\":\"input\", \"units\": 3},\n",
        "    {\"type\": \"rnn\", \"hidden\": 4, \"output\": 1},\n",
        "]\n",
        "layers = init_params(layer_conf)\n",
        "layers"
      ],
      "metadata": {
        "colab": {
          "base_uri": "https://localhost:8080/"
        },
        "id": "qkg8yOYsd1_c",
        "outputId": "32d23da4-5975-432e-a743-a17d8c9adec0"
      },
      "execution_count": 53,
      "outputs": [
        {
          "output_type": "execute_result",
          "data": {
            "text/plain": [
              "[[array([[ 0.0488135 ,  0.21518937,  0.10276338,  0.04488318],\n",
              "         [-0.0763452 ,  0.14589411, -0.06241279,  0.391773  ],\n",
              "         [ 0.46366276, -0.11655848,  0.29172504,  0.02889492]]),\n",
              "  array([[ 0.06804456,  0.42559664, -0.42896394, -0.4128707 ],\n",
              "         [-0.4797816 ,  0.33261985,  0.27815675,  0.37001215],\n",
              "         [ 0.47861834,  0.29915856, -0.03852064,  0.28052918],\n",
              "         [-0.38172557,  0.13992102, -0.35664671,  0.44466892]]),\n",
              "  array([[ 0.02184832, -0.08533806, -0.23544439,  0.27423369]]),\n",
              "  array([[-0.04384967],\n",
              "         [ 0.06843395],\n",
              "         [-0.4812102 ],\n",
              "         [ 0.1176355 ]]),\n",
              "  array([[0.11209572]])]]"
            ]
          },
          "metadata": {},
          "execution_count": 53
        }
      ]
    },
    {
      "cell_type": "code",
      "source": [
        "epochs = 40\n",
        "lr = 1e-5\n",
        "\n",
        "layer_conf = [\n",
        "    {\"type\":\"input\", \"units\": 3},\n",
        "    {\"type\": \"rnn\", \"hidden\": 4, \"output\": 1}\n",
        "]\n",
        "layers = init_params(layer_conf)\n",
        "\n",
        "for epoch in range(epochs):\n",
        "    sequence_len = 7\n",
        "    epoch_loss = 0\n",
        "    for j in range(train_x.shape[0] - sequence_len):\n",
        "        seq_x = train_x[j:(j+sequence_len),]\n",
        "        seq_y = train_y[j:(j+sequence_len),]\n",
        "        hiddens, outputs = forward(seq_x, layers)\n",
        "        grad = mse_grad(seq_y, outputs)\n",
        "        params = backward(layers, seq_x, lr, grad, hiddens)\n",
        "        epoch_loss += mse(seq_y, outputs)\n",
        "\n",
        "    if epoch % 10 == 0:\n",
        "        sequence_len = 7\n",
        "        valid_loss = 0\n",
        "\n",
        "        for j in range(valid_x.shape[0] - sequence_len):\n",
        "            seq_x = valid_x[j:(j+sequence_len),]\n",
        "            seq_y = valid_y[j:(j+sequence_len),]\n",
        "            _, outputs = forward(seq_x, layers)\n",
        "            valid_loss += mse(seq_y, outputs)\n",
        "\n",
        "        print(f\"Epoch: {epoch} train loss {epoch_loss / len(train_x)} valid loss {valid_loss / len(valid_x)}\")"
      ],
      "metadata": {
        "colab": {
          "base_uri": "https://localhost:8080/"
        },
        "id": "qAgpRuchrCmU",
        "outputId": "12f0eeed-d63b-4ff5-97a1-0597139e594a"
      },
      "execution_count": 58,
      "outputs": [
        {
          "output_type": "stream",
          "name": "stdout",
          "text": [
            "Epoch: 0 train loss 2164.838721952446 valid loss 885.1082338590176\n",
            "Epoch: 10 train loss 30.870268481512543 valid loss 30.226032733267413\n",
            "Epoch: 20 train loss 23.75686041410769 valid loss 22.880047119891742\n",
            "Epoch: 30 train loss 22.552496387453758 valid loss 21.67926208929297\n"
          ]
        }
      ]
    },
    {
      "cell_type": "markdown",
      "source": [
        "We can end by setting up a training loop and measuring error:"
      ],
      "metadata": {
        "collapsed": false,
        "id": "iI2gEl8PwY07"
      }
    },
    {
      "cell_type": "code",
      "execution_count": null,
      "metadata": {
        "id": "GUqTTHRHwY08",
        "outputId": "3abd0458-c6e9-48d2-b936-a02b29f4096e"
      },
      "outputs": [
        {
          "name": "stdout",
          "output_type": "stream",
          "text": [
            "Epoch: 0 train loss 3122.594400144508 valid loss 2171.3186862102025\n",
            "Epoch: 50 train loss 30.593193275313595 valid loss 30.568271740103427\n",
            "Epoch: 100 train loss 25.263986813543738 valid loss 24.435517510355645\n",
            "Epoch: 150 train loss 22.9567624295313 valid loss 22.177010971976852\n",
            "Epoch: 200 train loss 22.306774327704215 valid loss 21.557992202834164\n"
          ]
        }
      ],
      "source": [
        "epochs = 250\n",
        "lr = 1e-5\n",
        "\n",
        "layer_conf = [\n",
        "    {\"type\":\"input\", \"units\": 3},\n",
        "    {\"type\": \"rnn\", \"hidden\": 4, \"output\": 1}\n",
        "]\n",
        "layers = init_params(layer_conf)\n",
        "\n",
        "for epoch in range(epochs):\n",
        "    sequence_len = 7\n",
        "    epoch_loss = 0\n",
        "    for j in range(train_x.shape[0] - sequence_len):\n",
        "        seq_x = train_x[j:(j+sequence_len),]\n",
        "        seq_y = train_y[j:(j+sequence_len),]\n",
        "        hiddens, outputs = forward(seq_x, layers)\n",
        "        grad = mse_grad(seq_y, outputs)\n",
        "        params = backward(layers, seq_x, lr, grad, hiddens)\n",
        "        epoch_loss += mse(seq_y, outputs)\n",
        "\n",
        "    if epoch % 50 == 0:\n",
        "        sequence_len = 7\n",
        "        valid_loss = 0\n",
        "        for j in range(valid_x.shape[0] - sequence_len):\n",
        "            seq_x = valid_x[j:(j+sequence_len),]\n",
        "            seq_y = valid_y[j:(j+sequence_len),]\n",
        "            _, outputs = forward(seq_x, layers)\n",
        "            valid_loss += mse(seq_y, outputs)\n",
        "\n",
        "        print(f\"Epoch: {epoch} train loss {epoch_loss / len(train_x)} valid loss {valid_loss / len(valid_x)}\")"
      ]
    },
    {
      "cell_type": "markdown",
      "source": [
        "As we can see above, the network reduces training and validation loss over successive epochs.  It will perform similarly to the RNN implementation in Pytorch, but it will descend more slowly.\n",
        "\n",
        "## Wrap-up\n",
        "\n",
        "We learned a lot in this lesson! You should now have a good idea of how to train a recurrent neural network.  Don't worry if you don't get all of the concepts immediately.  RNNs are tricky, and take multiple readings to really understand.\n",
        "\n",
        "In the next lesson, we'll learn about how we can reduce test and validation error with regularization."
      ],
      "metadata": {
        "collapsed": false,
        "id": "3GYOE8LswY09"
      }
    }
  ],
  "metadata": {
    "kernelspec": {
      "display_name": "Python 3",
      "name": "python3"
    },
    "language_info": {
      "codemirror_mode": {
        "name": "ipython",
        "version": 3
      },
      "file_extension": ".py",
      "mimetype": "text/x-python",
      "name": "python",
      "nbconvert_exporter": "python",
      "pygments_lexer": "ipython3",
      "version": "3.11.0"
    },
    "colab": {
      "provenance": [],
      "gpuType": "T4"
    },
    "accelerator": "GPU"
  },
  "nbformat": 4,
  "nbformat_minor": 0
}